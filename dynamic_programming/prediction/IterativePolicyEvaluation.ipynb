{
  "nbformat": 4,
  "nbformat_minor": 0,
  "metadata": {
    "colab": {
      "name": "IterativePolicyEvaluation.ipynb",
      "provenance": [],
      "authorship_tag": "ABX9TyMlQ8uIQGcz8ntxaliTg+LA",
      "include_colab_link": true
    },
    "kernelspec": {
      "name": "python3",
      "display_name": "Python 3"
    }
  },
  "cells": [
    {
      "cell_type": "markdown",
      "metadata": {
        "id": "view-in-github",
        "colab_type": "text"
      },
      "source": [
        "<a href=\"https://colab.research.google.com/github/maggieliuzzi/reinforcement_learning/blob/master/dynamic_programming/prediction/IterativePolicyEvaluation.ipynb\" target=\"_parent\"><img src=\"https://colab.research.google.com/assets/colab-badge.svg\" alt=\"Open In Colab\"/></a>"
      ]
    },
    {
      "cell_type": "markdown",
      "metadata": {
        "id": "IwNPtnzwq7gp",
        "colab_type": "text"
      },
      "source": [
        "**Dynamic Programming** | Prediction Problem | Iterative Policy Evaluation\n",
        "\n",
        "Given a policy, find the value function\n",
        "\n",
        "- Policy (deciding what action to take given the state): 1) probabilistic (uniform random), 2) deterministic (fixed)\n",
        "- State Transitions (the next state and reward given your action-state pair): deterministic (all p(s',r|s,a) = 1 or 0)"
      ]
    },
    {
      "cell_type": "code",
      "metadata": {
        "id": "hJPsFn5dqwHL",
        "colab_type": "code",
        "colab": {}
      },
      "source": [
        "from __future__ import print_function, division\n",
        "from builtins import range\n",
        "import numpy as np\n",
        "!wget \"https://raw.githubusercontent.com/lazyprogrammer/machine_learning_examples/master/rl/grid_world.py\"\n",
        "from grid_world import standard_grid\n",
        "!wget \"https://raw.githubusercontent.com/maggieliuzzi/reinforcement_learning/master/environments/utils.py\"\n",
        "from utils import print_values, print_policy\n"
      ],
      "execution_count": 0,
      "outputs": []
    },
    {
      "cell_type": "code",
      "metadata": {
        "id": "ujhLtXTprEJi",
        "colab_type": "code",
        "colab": {}
      },
      "source": [
        "SMALL_ENOUGH = 1e-3  # threshold for convergence"
      ],
      "execution_count": 0,
      "outputs": []
    },
    {
      "cell_type": "code",
      "metadata": {
        "id": "8a2Kx0TsuI7y",
        "colab_type": "code",
        "colab": {}
      },
      "source": [
        "grid = standard_grid()\n",
        "states = grid.all_states()"
      ],
      "execution_count": 0,
      "outputs": []
    },
    {
      "cell_type": "markdown",
      "metadata": {
        "id": "ZMXa7pQ1zDpk",
        "colab_type": "text"
      },
      "source": [
        "1) **Probabilistic policy (uniformly-random)**"
      ]
    },
    {
      "cell_type": "code",
      "metadata": {
        "id": "eSe4F349uPMK",
        "colab_type": "code",
        "colab": {}
      },
      "source": [
        "V = {}\n",
        "for s in states:\n",
        "  V[s] = 0\n",
        "\n",
        "# Without discount factor\n",
        "gamma = 1.0 # discount factor"
      ],
      "execution_count": 0,
      "outputs": []
    },
    {
      "cell_type": "code",
      "metadata": {
        "id": "g99mZRkuuLdl",
        "colab_type": "code",
        "colab": {}
      },
      "source": [
        "# repeat until convergence\n",
        "while True:\n",
        "  biggest_change = 0\n",
        "  for s in states:\n",
        "    old_v = V[s]\n",
        "\n",
        "    # V(s) only has value if it's not a terminal state\n",
        "    if s in grid.actions:\n",
        "\n",
        "      new_v = 0 # we will accumulate the answer\n",
        "      p_a = 1.0 / len(grid.actions[s]) # each action has equal probability (uniform random)\n",
        "      for a in grid.actions[s]:\n",
        "        grid.set_state(s)\n",
        "        r = grid.move(a)\n",
        "        new_v += p_a * (r + gamma * V[grid.current_state()])\n",
        "      V[s] = new_v\n",
        "      biggest_change = max(biggest_change, np.abs(old_v - V[s]))\n",
        "\n",
        "  if biggest_change < SMALL_ENOUGH:\n",
        "    break"
      ],
      "execution_count": 0,
      "outputs": []
    },
    {
      "cell_type": "code",
      "metadata": {
        "id": "1FPphFP6uosO",
        "colab_type": "code",
        "colab": {
          "base_uri": "https://localhost:8080/",
          "height": 136
        },
        "outputId": "58a5abfe-71b2-4fb1-d0ee-b0152deb5c21"
      },
      "source": [
        "print(\"values for uniformly random actions:\")\n",
        "print_values(V, grid)"
      ],
      "execution_count": 17,
      "outputs": [
        {
          "output_type": "stream",
          "text": [
            "values for uniformly random actions:\n",
            "---------------------------\n",
            "-0.03| 0.09| 0.22| 0.00|\n",
            "---------------------------\n",
            "-0.16| 0.00|-0.44| 0.00|\n",
            "---------------------------\n",
            "-0.29|-0.41|-0.54|-0.77|\n"
          ],
          "name": "stdout"
        }
      ]
    },
    {
      "cell_type": "markdown",
      "metadata": {
        "id": "IBuTnIgxzLKH",
        "colab_type": "text"
      },
      "source": [
        "2) **Deterministic policy (fixed)**"
      ]
    },
    {
      "cell_type": "code",
      "metadata": {
        "id": "p7wsFwzWvuCV",
        "colab_type": "code",
        "colab": {
          "base_uri": "https://localhost:8080/",
          "height": 119
        },
        "outputId": "9a84544d-a524-4ae0-80a9-771a3c9a757c"
      },
      "source": [
        "policy = {\n",
        "  (2, 0): 'U',\n",
        "  (1, 0): 'U',\n",
        "  (0, 0): 'R',\n",
        "  (0, 1): 'R',\n",
        "  (0, 2): 'R',\n",
        "  (1, 2): 'R',\n",
        "  (2, 1): 'R',\n",
        "  (2, 2): 'R',\n",
        "  (2, 3): 'U',\n",
        "}\n",
        "print_policy(policy, grid)"
      ],
      "execution_count": 18,
      "outputs": [
        {
          "output_type": "stream",
          "text": [
            "---------------------------\n",
            "  R  |  R  |  R  |     |\n",
            "---------------------------\n",
            "  U  |     |  R  |     |\n",
            "---------------------------\n",
            "  U  |  R  |  R  |  U  |\n"
          ],
          "name": "stdout"
        }
      ]
    },
    {
      "cell_type": "code",
      "metadata": {
        "id": "e-o8yGJFv-q4",
        "colab_type": "code",
        "colab": {}
      },
      "source": [
        "# With discount factor\n",
        "V = {}\n",
        "for s in states:\n",
        "  V[s] = 0\n",
        "\n",
        "gamma = 0.9 # discount factor"
      ],
      "execution_count": 0,
      "outputs": []
    },
    {
      "cell_type": "code",
      "metadata": {
        "id": "vW21b4lvwFTH",
        "colab_type": "code",
        "colab": {}
      },
      "source": [
        "# repeat until convergence\n",
        "while True:\n",
        "  biggest_change = 0\n",
        "  for s in states:\n",
        "    old_v = V[s]\n",
        "\n",
        "    # V(s) only has value if it's not a terminal state\n",
        "    if s in policy:\n",
        "      a = policy[s]\n",
        "      grid.set_state(s)\n",
        "      r = grid.move(a)\n",
        "      V[s] = r + gamma * V[grid.current_state()]\n",
        "      biggest_change = max(biggest_change, np.abs(old_v - V[s]))\n",
        "\n",
        "  if biggest_change < SMALL_ENOUGH:\n",
        "    break"
      ],
      "execution_count": 0,
      "outputs": []
    },
    {
      "cell_type": "code",
      "metadata": {
        "id": "ZTqvfxNiwGml",
        "colab_type": "code",
        "colab": {
          "base_uri": "https://localhost:8080/",
          "height": 136
        },
        "outputId": "dc1e6108-fbb4-47ba-84c1-67fbe8db5a0b"
      },
      "source": [
        "print(\"values for fixed policy:\")\n",
        "print_values(V, grid)"
      ],
      "execution_count": 21,
      "outputs": [
        {
          "output_type": "stream",
          "text": [
            "values for fixed policy:\n",
            "---------------------------\n",
            " 0.81| 0.90| 1.00| 0.00|\n",
            "---------------------------\n",
            " 0.73| 0.00|-1.00| 0.00|\n",
            "---------------------------\n",
            " 0.66|-0.81|-0.90|-1.00|\n"
          ],
          "name": "stdout"
        }
      ]
    }
  ]
}