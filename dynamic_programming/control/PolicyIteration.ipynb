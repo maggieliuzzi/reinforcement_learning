{
  "nbformat": 4,
  "nbformat_minor": 0,
  "metadata": {
    "colab": {
      "name": "PolicyIteration.ipynb",
      "provenance": [],
      "authorship_tag": "ABX9TyOdI596zNH12DElpo9Hsqbh",
      "include_colab_link": true
    },
    "kernelspec": {
      "name": "python3",
      "display_name": "Python 3"
    }
  },
  "cells": [
    {
      "cell_type": "markdown",
      "metadata": {
        "id": "view-in-github",
        "colab_type": "text"
      },
      "source": [
        "<a href=\"https://colab.research.google.com/github/maggieliuzzi/reinforcement_learning/blob/master/dynamic_programming/control/PolicyIteration.ipynb\" target=\"_parent\"><img src=\"https://colab.research.google.com/assets/colab-badge.svg\" alt=\"Open In Colab\"/></a>"
      ]
    },
    {
      "cell_type": "markdown",
      "metadata": {
        "id": "JVoVYoz2wxcX",
        "colab_type": "text"
      },
      "source": [
        "**Dynamic Programming** | Control Problem | Policy Iteration\n",
        "\n",
        "Find optimal policy and value function.\n",
        "\n",
        "- State Transitions (the next state and reward given your action-state pair): \n",
        "  1) deterministic (all p(s',r|s,a) = 1 or 0),\n",
        "  2) probabilistic (0.5 for desired position, 0.5/3 in any of the other three)\n"
      ]
    },
    {
      "cell_type": "code",
      "metadata": {
        "id": "n8Bg90zEwujv",
        "colab_type": "code",
        "colab": {
          "base_uri": "https://localhost:8080/",
          "height": 391
        },
        "outputId": "40c85bb2-94ec-43ef-ce5f-84b5c815706f"
      },
      "source": [
        "from __future__ import print_function, division\n",
        "from builtins import range\n",
        "import numpy as np\n",
        "!wget \"https://raw.githubusercontent.com/lazyprogrammer/machine_learning_examples/master/rl/grid_world.py\"\n",
        "from grid_world import standard_grid, negative_grid\n",
        "!wget \"https://raw.githubusercontent.com/maggieliuzzi/reinforcement_learning/master/environments/utils.py\"\n",
        "from utils import print_values, print_policy"
      ],
      "execution_count": 1,
      "outputs": [
        {
          "output_type": "stream",
          "text": [
            "--2020-06-02 02:52:36--  https://raw.githubusercontent.com/lazyprogrammer/machine_learning_examples/master/rl/grid_world.py\n",
            "Resolving raw.githubusercontent.com (raw.githubusercontent.com)... 151.101.0.133, 151.101.64.133, 151.101.128.133, ...\n",
            "Connecting to raw.githubusercontent.com (raw.githubusercontent.com)|151.101.0.133|:443... connected.\n",
            "HTTP request sent, awaiting response... 200 OK\n",
            "Length: 7531 (7.4K) [text/plain]\n",
            "Saving to: ‘grid_world.py’\n",
            "\n",
            "\rgrid_world.py         0%[                    ]       0  --.-KB/s               \rgrid_world.py       100%[===================>]   7.35K  --.-KB/s    in 0s      \n",
            "\n",
            "2020-06-02 02:52:36 (84.6 MB/s) - ‘grid_world.py’ saved [7531/7531]\n",
            "\n",
            "--2020-06-02 02:52:37--  https://raw.githubusercontent.com/maggieliuzzi/reinforcement_learning/master/environments/utils.py\n",
            "Resolving raw.githubusercontent.com (raw.githubusercontent.com)... 151.101.0.133, 151.101.64.133, 151.101.128.133, ...\n",
            "Connecting to raw.githubusercontent.com (raw.githubusercontent.com)|151.101.0.133|:443... connected.\n",
            "HTTP request sent, awaiting response... 200 OK\n",
            "Length: 578 [text/plain]\n",
            "Saving to: ‘utils.py’\n",
            "\n",
            "utils.py            100%[===================>]     578  --.-KB/s    in 0s      \n",
            "\n",
            "2020-06-02 02:52:37 (30.5 MB/s) - ‘utils.py’ saved [578/578]\n",
            "\n"
          ],
          "name": "stdout"
        }
      ]
    },
    {
      "cell_type": "code",
      "metadata": {
        "id": "pNVuODpsw_nn",
        "colab_type": "code",
        "colab": {}
      },
      "source": [
        "SMALL_ENOUGH = 1e-3\n",
        "GAMMA = 0.9\n",
        "ALL_POSSIBLE_ACTIONS = ('U', 'D', 'L', 'R')"
      ],
      "execution_count": 0,
      "outputs": []
    },
    {
      "cell_type": "code",
      "metadata": {
        "id": "Gr8H0D97xF8y",
        "colab_type": "code",
        "colab": {
          "base_uri": "https://localhost:8080/",
          "height": 136
        },
        "outputId": "6f0d8188-6157-41d9-b39e-9f7d2eaff944"
      },
      "source": [
        "grid = negative_grid()  # reward of -0.1 for every non-terminal state\n",
        "grid = negative_grid(step_cost=-1.0)  # for probabilistic\n",
        "\n",
        "print(\"rewards:\")\n",
        "print_values(grid.rewards, grid)"
      ],
      "execution_count": 3,
      "outputs": [
        {
          "output_type": "stream",
          "text": [
            "rewards:\n",
            "---------------------------\n",
            "-1.00|-1.00|-1.00| 1.00|\n",
            "---------------------------\n",
            "-1.00| 0.00|-1.00|-1.00|\n",
            "---------------------------\n",
            "-1.00|-1.00|-1.00|-1.00|\n"
          ],
          "name": "stdout"
        }
      ]
    },
    {
      "cell_type": "code",
      "metadata": {
        "id": "ai9wWiFFxOic",
        "colab_type": "code",
        "colab": {
          "base_uri": "https://localhost:8080/",
          "height": 136
        },
        "outputId": "f7af79d3-f7d5-4e53-98c9-7dede384e8d1"
      },
      "source": [
        "## Uniform random policy\n",
        "policy = {}\n",
        "for s in grid.actions.keys():\n",
        "  policy[s] = np.random.choice(ALL_POSSIBLE_ACTIONS)\n",
        "\n",
        "print(\"initial policy:\")\n",
        "print_policy(policy, grid)"
      ],
      "execution_count": 4,
      "outputs": [
        {
          "output_type": "stream",
          "text": [
            "initial policy:\n",
            "---------------------------\n",
            "  R  |  D  |  D  |     |\n",
            "---------------------------\n",
            "  U  |     |  L  |     |\n",
            "---------------------------\n",
            "  U  |  D  |  R  |  R  |\n"
          ],
          "name": "stdout"
        }
      ]
    },
    {
      "cell_type": "code",
      "metadata": {
        "id": "xHIebClFxQiB",
        "colab_type": "code",
        "colab": {}
      },
      "source": [
        "V = {}\n",
        "states = grid.all_states()\n",
        "for s in states:\n",
        "  # V[s] = 0\n",
        "  if s in grid.actions:\n",
        "    V[s] = np.random.random()\n",
        "  else:\n",
        "    # terminal state\n",
        "    V[s] = 0"
      ],
      "execution_count": 0,
      "outputs": []
    },
    {
      "cell_type": "code",
      "metadata": {
        "id": "codkRFRbxarw",
        "colab_type": "code",
        "colab": {}
      },
      "source": [
        "# repeat until convergence - will break out when policy does not change\n",
        "while True:\n",
        "\n",
        "  # policy evaluation step - we already know how to do this!\n",
        "  while True:\n",
        "    biggest_change = 0\n",
        "    for s in states:\n",
        "      old_v = V[s]\n",
        "\n",
        "      ''' \n",
        "      ## Deterministic state transitions\n",
        "      # V(s) only has value if it's not a terminal state\n",
        "      if s in policy:\n",
        "        a = policy[s]\n",
        "        grid.set_state(s)\n",
        "        r = grid.move(a)\n",
        "        V[s] = r + GAMMA * V[grid.current_state()]\n",
        "        biggest_change = max(biggest_change, np.abs(old_v - V[s]))\n",
        "      '''\n",
        "      ## Probabilistic state transitions\n",
        "      new_v = 0\n",
        "      if s in policy:\n",
        "        for a in ALL_POSSIBLE_ACTIONS:\n",
        "          if a == policy[s]:\n",
        "            p = 0.5\n",
        "          else:\n",
        "            p = 0.5/3\n",
        "          grid.set_state(s)\n",
        "          r = grid.move(a)\n",
        "          new_v += p*(r + GAMMA * V[grid.current_state()])\n",
        "        V[s] = new_v\n",
        "        biggest_change = max(biggest_change, np.abs(old_v - V[s]))\n",
        "    \n",
        "    \n",
        "    if biggest_change < SMALL_ENOUGH:\n",
        "      break\n",
        "\n",
        "  # policy improvement step\n",
        "  is_policy_converged = True\n",
        "  for s in states:\n",
        "    if s in policy:\n",
        "      old_a = policy[s]\n",
        "      new_a = None\n",
        "      best_value = float('-inf')\n",
        "\n",
        "      '''\n",
        "      ## Deterministic state transitions\n",
        "      # loop through all possible actions to find the best current action\n",
        "      for a in ALL_POSSIBLE_ACTIONS:\n",
        "        grid.set_state(s)\n",
        "        r = grid.move(a)\n",
        "        v = r + GAMMA * V[grid.current_state()]\n",
        "        if v > best_value:\n",
        "          best_value = v\n",
        "          new_a = a\n",
        "      '''\n",
        "      ## Probabilistic state transitions\n",
        "      # loop through all possible actions to find the best current action\n",
        "      for a in ALL_POSSIBLE_ACTIONS: # chosen action\n",
        "        v = 0\n",
        "        for a2 in ALL_POSSIBLE_ACTIONS: # resulting action\n",
        "          if a == a2:\n",
        "            p = 0.5\n",
        "          else:\n",
        "            p = 0.5/3\n",
        "          grid.set_state(s)\n",
        "          r = grid.move(a2)\n",
        "          v += p*(r + GAMMA * V[grid.current_state()])\n",
        "        if v > best_value:\n",
        "          best_value = v\n",
        "          new_a = a\n",
        "    \n",
        "\n",
        "      policy[s] = new_a\n",
        "      if new_a != old_a:\n",
        "        is_policy_converged = False\n",
        "\n",
        "  if is_policy_converged:\n",
        "    break"
      ],
      "execution_count": 0,
      "outputs": []
    },
    {
      "cell_type": "code",
      "metadata": {
        "id": "oD-fdBTBxh6M",
        "colab_type": "code",
        "colab": {
          "base_uri": "https://localhost:8080/",
          "height": 255
        },
        "outputId": "dcf39e01-47e3-4ec2-e46e-c4394c2a73aa"
      },
      "source": [
        "print(\"values:\")\n",
        "print_values(V, grid)\n",
        "print(\"policy:\")\n",
        "print_policy(policy, grid)"
      ],
      "execution_count": 7,
      "outputs": [
        {
          "output_type": "stream",
          "text": [
            "values:\n",
            "---------------------------\n",
            "-4.52|-2.95|-0.86| 0.00|\n",
            "---------------------------\n",
            "-5.57| 0.00|-1.94| 0.00|\n",
            "---------------------------\n",
            "-5.76|-4.88|-3.44|-2.17|\n",
            "policy:\n",
            "---------------------------\n",
            "  R  |  R  |  R  |     |\n",
            "---------------------------\n",
            "  U  |     |  R  |     |\n",
            "---------------------------\n",
            "  R  |  R  |  U  |  U  |\n"
          ],
          "name": "stdout"
        }
      ]
    }
  ]
}