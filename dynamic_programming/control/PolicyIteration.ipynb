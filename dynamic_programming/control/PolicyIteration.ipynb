{
  "nbformat": 4,
  "nbformat_minor": 0,
  "metadata": {
    "colab": {
      "name": "PolicyIteration.ipynb",
      "provenance": [],
      "authorship_tag": "ABX9TyPpHjwRY4mQeiiiQWJz3aZ/",
      "include_colab_link": true
    },
    "kernelspec": {
      "name": "python3",
      "display_name": "Python 3"
    }
  },
  "cells": [
    {
      "cell_type": "markdown",
      "metadata": {
        "id": "view-in-github",
        "colab_type": "text"
      },
      "source": [
        "<a href=\"https://colab.research.google.com/github/maggieliuzzi/reinforcement_learning/blob/master/dynamic_programming/control/PolicyIteration.ipynb\" target=\"_parent\"><img src=\"https://colab.research.google.com/assets/colab-badge.svg\" alt=\"Open In Colab\"/></a>"
      ]
    },
    {
      "cell_type": "markdown",
      "metadata": {
        "id": "JVoVYoz2wxcX",
        "colab_type": "text"
      },
      "source": [
        "**Dynamic Programming** | Control Problem | Policy Iteration\n",
        "\n",
        "Find optimal policy and value function.\n",
        "\n",
        "- State Transitions (the next state and reward given your action-state pair): deterministic (all p(s',r|s,a) = 1 or 0)\n"
      ]
    },
    {
      "cell_type": "code",
      "metadata": {
        "id": "n8Bg90zEwujv",
        "colab_type": "code",
        "colab": {}
      },
      "source": [
        "from __future__ import print_function, division\n",
        "from builtins import range\n",
        "import numpy as np\n",
        "!wget \"https://raw.githubusercontent.com/lazyprogrammer/machine_learning_examples/master/rl/grid_world.py\"\n",
        "from grid_world import standard_grid, negative_grid\n",
        "!wget \"https://raw.githubusercontent.com/maggieliuzzi/reinforcement_learning/master/environments/utils.py\"\n",
        "from utils import print_values, print_policy"
      ],
      "execution_count": 0,
      "outputs": []
    },
    {
      "cell_type": "code",
      "metadata": {
        "id": "pNVuODpsw_nn",
        "colab_type": "code",
        "colab": {}
      },
      "source": [
        "SMALL_ENOUGH = 1e-3\n",
        "GAMMA = 0.9\n",
        "ALL_POSSIBLE_ACTIONS = ('U', 'D', 'L', 'R')"
      ],
      "execution_count": 0,
      "outputs": []
    },
    {
      "cell_type": "code",
      "metadata": {
        "id": "Gr8H0D97xF8y",
        "colab_type": "code",
        "colab": {
          "base_uri": "https://localhost:8080/",
          "height": 136
        },
        "outputId": "3c38235e-b17f-4346-c31e-ad30d21ba41f"
      },
      "source": [
        "grid = negative_grid()  # reward of -0.1 for every non-terminal state\n",
        "\n",
        "print(\"rewards:\")\n",
        "print_values(grid.rewards, grid)"
      ],
      "execution_count": 3,
      "outputs": [
        {
          "output_type": "stream",
          "text": [
            "rewards:\n",
            "---------------------------\n",
            "-0.10|-0.10|-0.10| 1.00|\n",
            "---------------------------\n",
            "-0.10| 0.00|-0.10|-1.00|\n",
            "---------------------------\n",
            "-0.10|-0.10|-0.10|-0.10|\n"
          ],
          "name": "stdout"
        }
      ]
    },
    {
      "cell_type": "code",
      "metadata": {
        "id": "ai9wWiFFxOic",
        "colab_type": "code",
        "colab": {
          "base_uri": "https://localhost:8080/",
          "height": 136
        },
        "outputId": "c220d90d-a406-48cc-b669-143d3c00330b"
      },
      "source": [
        "## Uniform random policy\n",
        "policy = {}\n",
        "for s in grid.actions.keys():\n",
        "  policy[s] = np.random.choice(ALL_POSSIBLE_ACTIONS)\n",
        "\n",
        "print(\"initial policy:\")\n",
        "print_policy(policy, grid)"
      ],
      "execution_count": 4,
      "outputs": [
        {
          "output_type": "stream",
          "text": [
            "initial policy:\n",
            "---------------------------\n",
            "  L  |  L  |  R  |     |\n",
            "---------------------------\n",
            "  L  |     |  R  |     |\n",
            "---------------------------\n",
            "  U  |  R  |  U  |  L  |\n"
          ],
          "name": "stdout"
        }
      ]
    },
    {
      "cell_type": "code",
      "metadata": {
        "id": "xHIebClFxQiB",
        "colab_type": "code",
        "colab": {}
      },
      "source": [
        "V = {}\n",
        "states = grid.all_states()\n",
        "for s in states:\n",
        "  # V[s] = 0\n",
        "  if s in grid.actions:\n",
        "    V[s] = np.random.random()\n",
        "  else:\n",
        "    # terminal state\n",
        "    V[s] = 0"
      ],
      "execution_count": 0,
      "outputs": []
    },
    {
      "cell_type": "code",
      "metadata": {
        "id": "codkRFRbxarw",
        "colab_type": "code",
        "colab": {}
      },
      "source": [
        "# repeat until convergence - will break out when policy does not change\n",
        "while True:\n",
        "\n",
        "  # policy evaluation step - we already know how to do this!\n",
        "  while True:\n",
        "    biggest_change = 0\n",
        "    for s in states:\n",
        "      old_v = V[s]\n",
        "\n",
        "      # V(s) only has value if it's not a terminal state\n",
        "      if s in policy:\n",
        "        a = policy[s]\n",
        "        grid.set_state(s)\n",
        "        r = grid.move(a)\n",
        "        V[s] = r + GAMMA * V[grid.current_state()]\n",
        "        biggest_change = max(biggest_change, np.abs(old_v - V[s]))\n",
        "\n",
        "    if biggest_change < SMALL_ENOUGH:\n",
        "      break\n",
        "\n",
        "  # policy improvement step\n",
        "  is_policy_converged = True\n",
        "  for s in states:\n",
        "    if s in policy:\n",
        "      old_a = policy[s]\n",
        "      new_a = None\n",
        "      best_value = float('-inf')\n",
        "      # loop through all possible actions to find the best current action\n",
        "      for a in ALL_POSSIBLE_ACTIONS:\n",
        "        grid.set_state(s)\n",
        "        r = grid.move(a)\n",
        "        v = r + GAMMA * V[grid.current_state()]\n",
        "        if v > best_value:\n",
        "          best_value = v\n",
        "          new_a = a\n",
        "      policy[s] = new_a\n",
        "      if new_a != old_a:\n",
        "        is_policy_converged = False\n",
        "\n",
        "  if is_policy_converged:\n",
        "    break"
      ],
      "execution_count": 0,
      "outputs": []
    },
    {
      "cell_type": "code",
      "metadata": {
        "id": "oD-fdBTBxh6M",
        "colab_type": "code",
        "colab": {
          "base_uri": "https://localhost:8080/",
          "height": 255
        },
        "outputId": "c7eea49e-4787-42e3-bfab-126b674a209b"
      },
      "source": [
        "print(\"values:\")\n",
        "print_values(V, grid)\n",
        "print(\"policy:\")\n",
        "print_policy(policy, grid)"
      ],
      "execution_count": 7,
      "outputs": [
        {
          "output_type": "stream",
          "text": [
            "values:\n",
            "---------------------------\n",
            " 0.62| 0.80| 1.00| 0.00|\n",
            "---------------------------\n",
            " 0.46| 0.00| 0.80| 0.00|\n",
            "---------------------------\n",
            " 0.31| 0.46| 0.62| 0.46|\n",
            "policy:\n",
            "---------------------------\n",
            "  R  |  R  |  R  |     |\n",
            "---------------------------\n",
            "  U  |     |  U  |     |\n",
            "---------------------------\n",
            "  U  |  R  |  U  |  L  |\n"
          ],
          "name": "stdout"
        }
      ]
    }
  ]
}