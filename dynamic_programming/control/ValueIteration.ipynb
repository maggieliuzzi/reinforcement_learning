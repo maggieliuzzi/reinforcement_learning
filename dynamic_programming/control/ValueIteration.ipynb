{
  "nbformat": 4,
  "nbformat_minor": 0,
  "metadata": {
    "colab": {
      "name": "ValueIteration.ipynb",
      "provenance": [],
      "authorship_tag": "ABX9TyO1S05pTpU4UsioWh+1+ALp",
      "include_colab_link": true
    },
    "kernelspec": {
      "name": "python3",
      "display_name": "Python 3"
    }
  },
  "cells": [
    {
      "cell_type": "markdown",
      "metadata": {
        "id": "view-in-github",
        "colab_type": "text"
      },
      "source": [
        "<a href=\"https://colab.research.google.com/github/maggieliuzzi/reinforcement_learning/blob/master/dynamic_programming/control/ValueIteration.ipynb\" target=\"_parent\"><img src=\"https://colab.research.google.com/assets/colab-badge.svg\" alt=\"Open In Colab\"/></a>"
      ]
    },
    {
      "cell_type": "markdown",
      "metadata": {
        "id": "nCyJ3X289y0P",
        "colab_type": "text"
      },
      "source": [
        "**Dynamic Programming** | Control Problem | Value Iteration\n",
        "\n",
        "Find optimal policy and value function.\n",
        "\n",
        "State Transitions (the next state and reward given your action-state pair): probabilistic (0.5 for desired position, 0.5/3 in any of the other three)"
      ]
    },
    {
      "cell_type": "code",
      "metadata": {
        "id": "uVA0pCfo9evo",
        "colab_type": "code",
        "colab": {}
      },
      "source": [
        "from __future__ import print_function, division\n",
        "from builtins import range\n",
        "import numpy as np\n",
        "!wget \"https://raw.githubusercontent.com/lazyprogrammer/machine_learning_examples/master/rl/grid_world.py\"\n",
        "from grid_world import windy_grid, ACTION_SPACE\n",
        "!wget \"https://raw.githubusercontent.com/maggieliuzzi/reinforcement_learning/master/environments/utils.py\"\n",
        "from utils import print_values, print_policy"
      ],
      "execution_count": 0,
      "outputs": []
    },
    {
      "cell_type": "code",
      "metadata": {
        "id": "wsS15b4b-Kct",
        "colab_type": "code",
        "colab": {}
      },
      "source": [
        "SMALL_ENOUGH = 1e-3\n",
        "GAMMA = 0.9"
      ],
      "execution_count": 0,
      "outputs": []
    },
    {
      "cell_type": "code",
      "metadata": {
        "id": "mvhXsWDH-U-0",
        "colab_type": "code",
        "colab": {}
      },
      "source": [
        "def get_transition_probs_and_rewards(grid):\n",
        "  ### define transition probabilities and grid ###\n",
        "  # the key is (s, a, s'), the value is the probability\n",
        "  # that is, transition_probs[(s, a, s')] = p(s' | s, a)\n",
        "  # any key NOT present will considered to be impossible (i.e. probability 0)\n",
        "  transition_probs = {}\n",
        "\n",
        "  # to reduce the dimensionality of the dictionary, we'll use deterministic\n",
        "  # rewards, r(s, a, s')\n",
        "  # note: you could make it simpler by using r(s') since the reward doesn't\n",
        "  # actually depend on (s, a)\n",
        "  rewards = {}\n",
        "\n",
        "  for (s, a), v in grid.probs.items():\n",
        "    for s2, p in v.items():\n",
        "      transition_probs[(s, a, s2)] = p\n",
        "      rewards[(s, a, s2)] = grid.rewards.get(s2, 0)\n",
        "\n",
        "  return transition_probs, rewards"
      ],
      "execution_count": 0,
      "outputs": []
    },
    {
      "cell_type": "code",
      "metadata": {
        "id": "kVFF7oSG-elf",
        "colab_type": "code",
        "colab": {
          "base_uri": "https://localhost:8080/",
          "height": 255
        },
        "outputId": "d4e67cf9-d444-4018-8c4b-cd45f94f720c"
      },
      "source": [
        "grid = windy_grid()\n",
        "\n",
        "transition_probs, rewards = get_transition_probs_and_rewards(grid)\n",
        "\n",
        "print(\"rewards:\")\n",
        "print_values(grid.rewards, grid)"
      ],
      "execution_count": 20,
      "outputs": [
        {
          "output_type": "stream",
          "text": [
            "rewards:\n",
            "---------------------------\n",
            " 0.00| 0.00| 0.00| 1.00|\n",
            "---------------------------\n",
            " 0.00| 0.00| 0.00|-1.00|\n",
            "---------------------------\n",
            " 0.00| 0.00| 0.00| 0.00|\n",
            "rewards:\n",
            "---------------------------\n",
            " 0.00| 0.00| 0.00| 1.00|\n",
            "---------------------------\n",
            " 0.00| 0.00| 0.00|-1.00|\n",
            "---------------------------\n",
            " 0.00| 0.00| 0.00| 0.00|\n"
          ],
          "name": "stdout"
        }
      ]
    },
    {
      "cell_type": "code",
      "metadata": {
        "id": "CicLNhAn-kWd",
        "colab_type": "code",
        "colab": {
          "base_uri": "https://localhost:8080/",
          "height": 255
        },
        "outputId": "17fc6de3-f357-424d-d2b8-ad84714ae276"
      },
      "source": [
        "# state -> action\n",
        "# we'll randomly choose an action and update as we learn\n",
        "policy = {}\n",
        "for s in grid.actions.keys():\n",
        "  policy[s] = np.random.choice(ACTION_SPACE)\n",
        "\n",
        "# initial policy\n",
        "print(\"initial policy:\")\n",
        "print_policy(policy, grid)"
      ],
      "execution_count": 21,
      "outputs": [
        {
          "output_type": "stream",
          "text": [
            "initial policy:\n",
            "---------------------------\n",
            "  R  |  R  |  U  |     |\n",
            "---------------------------\n",
            "  D  |     |  U  |     |\n",
            "---------------------------\n",
            "  L  |  R  |  L  |  L  |\n",
            "initial policy:\n",
            "---------------------------\n",
            "  D  |  U  |  U  |     |\n",
            "---------------------------\n",
            "  D  |     |  R  |     |\n",
            "---------------------------\n",
            "  D  |  D  |  L  |  L  |\n"
          ],
          "name": "stdout"
        }
      ]
    },
    {
      "cell_type": "code",
      "metadata": {
        "id": "kp8JT8cm-wQY",
        "colab_type": "code",
        "colab": {}
      },
      "source": [
        "# initialize V(s)\n",
        "V = {}\n",
        "states = grid.all_states()\n",
        "for s in states:\n",
        "  V[s] = 0"
      ],
      "execution_count": 0,
      "outputs": []
    },
    {
      "cell_type": "code",
      "metadata": {
        "id": "Z8UJMSp7-3ot",
        "colab_type": "code",
        "colab": {}
      },
      "source": [
        "# repeat until convergence\n",
        "# V[s] = max[a]{ sum[s',r] { p(s',r|s,a)[r + gamma*V[s']] } }\n",
        "it = 0\n",
        "while True:\n",
        "  biggest_change = 0\n",
        "  for s in grid.all_states():\n",
        "    if not grid.is_terminal(s):\n",
        "      old_v = V[s]\n",
        "      new_v = float('-inf')\n",
        "\n",
        "      for a in ACTION_SPACE:\n",
        "        v = 0\n",
        "        for s2 in grid.all_states():\n",
        "          # reward is a function of (s, a, s'), 0 if not specified\n",
        "          r = rewards.get((s, a, s2), 0)\n",
        "          v += transition_probs.get((s, a, s2), 0) * (r + GAMMA * V[s2])\n",
        "\n",
        "        # keep v if it's better\n",
        "        if v > new_v:\n",
        "          new_v = v\n",
        "\n",
        "      V[s] = new_v\n",
        "      biggest_change = max(biggest_change, np.abs(old_v - V[s]))\n",
        "\n",
        "  it += 1\n",
        "  if biggest_change < SMALL_ENOUGH:\n",
        "    break"
      ],
      "execution_count": 0,
      "outputs": []
    },
    {
      "cell_type": "code",
      "metadata": {
        "id": "TdSWyJZe-49l",
        "colab_type": "code",
        "colab": {}
      },
      "source": [
        "# find a policy that leads to optimal value function\n",
        "for s in policy.keys():\n",
        "  best_a = None\n",
        "  best_value = float('-inf')\n",
        "  # loop through all possible actions to find the best current action\n",
        "  for a in ACTION_SPACE:\n",
        "    v = 0\n",
        "    for s2 in grid.all_states():\n",
        "      # reward is a function of (s, a, s'), 0 if not specified\n",
        "      r = rewards.get((s, a, s2), 0)\n",
        "      v += transition_probs.get((s, a, s2), 0) * (r + GAMMA * V[s2])\n",
        "\n",
        "    # best_a is the action associated with best_value\n",
        "    if v > best_value:\n",
        "      best_value = v\n",
        "      best_a = a\n",
        "  policy[s] = best_a"
      ],
      "execution_count": 0,
      "outputs": []
    },
    {
      "cell_type": "code",
      "metadata": {
        "id": "-Of287PM_A_S",
        "colab_type": "code",
        "colab": {
          "base_uri": "https://localhost:8080/",
          "height": 493
        },
        "outputId": "ee2f856e-158a-4069-d24a-10d0238d5dc7"
      },
      "source": [
        "print(\"values:\")\n",
        "print_values(V, grid)\n",
        "print(\"policy:\")\n",
        "print_policy(policy, grid)"
      ],
      "execution_count": 25,
      "outputs": [
        {
          "output_type": "stream",
          "text": [
            "values:\n",
            "---------------------------\n",
            " 0.81| 0.90| 1.00| 0.00|\n",
            "---------------------------\n",
            " 0.73| 0.00| 0.48| 0.00|\n",
            "---------------------------\n",
            " 0.66| 0.59| 0.53| 0.48|\n",
            "policy:\n",
            "---------------------------\n",
            "  R  |  R  |  R  |     |\n",
            "---------------------------\n",
            "  U  |     |  D  |     |\n",
            "---------------------------\n",
            "  U  |  L  |  L  |  L  |\n",
            "values:\n",
            "---------------------------\n",
            " 0.81| 0.90| 1.00| 0.00|\n",
            "---------------------------\n",
            " 0.73| 0.00| 0.48| 0.00|\n",
            "---------------------------\n",
            " 0.66| 0.59| 0.53| 0.48|\n",
            "policy:\n",
            "---------------------------\n",
            "  R  |  R  |  R  |     |\n",
            "---------------------------\n",
            "  U  |     |  D  |     |\n",
            "---------------------------\n",
            "  U  |  L  |  L  |  L  |\n"
          ],
          "name": "stdout"
        }
      ]
    }
  ]
}