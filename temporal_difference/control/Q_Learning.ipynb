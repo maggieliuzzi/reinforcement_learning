{
  "nbformat": 4,
  "nbformat_minor": 0,
  "metadata": {
    "colab": {
      "name": "Q-Learning.ipynb",
      "provenance": [],
      "authorship_tag": "ABX9TyM82JCWEa+Dh0LqNmMZ7W5r",
      "include_colab_link": true
    },
    "kernelspec": {
      "name": "python3",
      "display_name": "Python 3"
    }
  },
  "cells": [
    {
      "cell_type": "markdown",
      "metadata": {
        "id": "view-in-github",
        "colab_type": "text"
      },
      "source": [
        "<a href=\"https://colab.research.google.com/github/maggieliuzzi/reinforcement_learning/blob/master/temporal_difference/control/Q_Learning.ipynb\" target=\"_parent\"><img src=\"https://colab.research.google.com/assets/colab-badge.svg\" alt=\"Open In Colab\"/></a>"
      ]
    },
    {
      "cell_type": "markdown",
      "metadata": {
        "id": "UY1k8lSRMvqh",
        "colab_type": "text"
      },
      "source": [
        "**Temporal Difference** | Control Problem | Q-Learning"
      ]
    },
    {
      "cell_type": "code",
      "metadata": {
        "id": "FFsfbl5lMs_r",
        "colab_type": "code",
        "colab": {}
      },
      "source": [
        "from __future__ import print_function, division\n",
        "from builtins import range\n",
        "import matplotlib.pyplot as plt\n",
        "import numpy as np\n",
        "!wget \"https://raw.githubusercontent.com/lazyprogrammer/machine_learning_examples/master/rl/grid_world.py\"\n",
        "from grid_world import standard_grid, negative_grid\n",
        "!wget \"https://raw.githubusercontent.com/maggieliuzzi/reinforcement_learning/master/environments/utils.py\"\n",
        "from utils import print_values, print_policy"
      ],
      "execution_count": 0,
      "outputs": []
    },
    {
      "cell_type": "code",
      "metadata": {
        "id": "wyotEpuHPNS6",
        "colab_type": "code",
        "colab": {}
      },
      "source": [
        "GAMMA = 0.9\n",
        "ALPHA = 0.1\n",
        "ALL_POSSIBLE_ACTIONS = ('U', 'D', 'L', 'R')"
      ],
      "execution_count": 0,
      "outputs": []
    },
    {
      "cell_type": "code",
      "metadata": {
        "id": "B91J6aOhP7h1",
        "colab_type": "code",
        "colab": {}
      },
      "source": [
        "def random_action(a, eps=0.1):\n",
        "  # we'll use epsilon-soft to ensure all states are visited\n",
        "  # what happens if you don't do this? i.e. eps=0\n",
        "  p = np.random.random()\n",
        "  if p < (1 - eps):\n",
        "    return a\n",
        "  else:\n",
        "    return np.random.choice(ALL_POSSIBLE_ACTIONS)"
      ],
      "execution_count": 0,
      "outputs": []
    },
    {
      "cell_type": "code",
      "metadata": {
        "id": "F2zWhqBpP9Rn",
        "colab_type": "code",
        "colab": {}
      },
      "source": [
        "def max_dict(d):\n",
        "  # returns the argmax (key) and max (value) from a dictionary\n",
        "  max_key = None\n",
        "  max_val = float('-inf')\n",
        "  for k, v in d.items():\n",
        "    if v > max_val:\n",
        "      max_val = v\n",
        "      max_key = k\n",
        "  return max_key, max_val"
      ],
      "execution_count": 0,
      "outputs": []
    },
    {
      "cell_type": "code",
      "metadata": {
        "id": "RRQY-muSQAkv",
        "colab_type": "code",
        "colab": {
          "base_uri": "https://localhost:8080/",
          "height": 136
        },
        "outputId": "39c3ac03-766d-4574-e72c-fd45a71fab00"
      },
      "source": [
        "grid = negative_grid(step_cost=-0.1)\n",
        "\n",
        "print(\"rewards:\")\n",
        "print_values(grid.rewards, grid)"
      ],
      "execution_count": 8,
      "outputs": [
        {
          "output_type": "stream",
          "text": [
            "rewards:\n",
            "---------------------------\n",
            "-0.10|-0.10|-0.10| 1.00|\n",
            "---------------------------\n",
            "-0.10| 0.00|-0.10|-1.00|\n",
            "---------------------------\n",
            "-0.10|-0.10|-0.10|-0.10|\n"
          ],
          "name": "stdout"
        }
      ]
    },
    {
      "cell_type": "code",
      "metadata": {
        "id": "nmQ3_W2BQEfj",
        "colab_type": "code",
        "colab": {}
      },
      "source": [
        "# no policy initialization, we will derive our policy from most recent Q\n",
        "\n",
        "# initialize Q(s,a) \n",
        "Q = {}\n",
        "states = grid.all_states()\n",
        "for s in states:\n",
        "  Q[s] = {}\n",
        "  for a in ALL_POSSIBLE_ACTIONS:\n",
        "    Q[s][a] = 0"
      ],
      "execution_count": 0,
      "outputs": []
    },
    {
      "cell_type": "code",
      "metadata": {
        "id": "EhCPR7pwQG8R",
        "colab_type": "code",
        "colab": {}
      },
      "source": [
        "# let's also keep track of how many times Q[s] has been updated\n",
        "update_counts = {}\n",
        "update_counts_sa = {}\n",
        "for s in states:\n",
        "  update_counts_sa[s] = {}\n",
        "  for a in ALL_POSSIBLE_ACTIONS:\n",
        "    update_counts_sa[s][a] = 1.0"
      ],
      "execution_count": 0,
      "outputs": []
    },
    {
      "cell_type": "code",
      "metadata": {
        "id": "ouqlCtrOR-0i",
        "colab_type": "code",
        "colab": {
          "base_uri": "https://localhost:8080/",
          "height": 102
        },
        "outputId": "9243b870-8bc4-4462-e4f9-bf509058acb5"
      },
      "source": [
        "# repeat until convergence\n",
        "t = 1.0\n",
        "deltas = []\n",
        "for it in range(10000):\n",
        "  if it % 100 == 0:\n",
        "    t += 1e-2\n",
        "  if it % 2000 == 0:\n",
        "    print(\"it:\", it)\n",
        "\n",
        "  # instead of 'generating' an epsiode, we will PLAY\n",
        "  # an episode within this loop\n",
        "  s = (2, 0) # start state\n",
        "  grid.set_state(s)\n",
        "\n",
        "  # the first (s, r) tuple is the state we start in and 0\n",
        "  # (since we don't get a reward) for simply starting the game\n",
        "  # the last (s, r) tuple is the terminal state and the final reward\n",
        "  # the value for the terminal state is by definition 0, so we don't\n",
        "  # care about updating it.\n",
        "  a, _ = max_dict(Q[s])\n",
        "  biggest_change = 0\n",
        "  while not grid.game_over():\n",
        "    a = random_action(a, eps=0.5/t) # epsilon-greedy\n",
        "    # random action also works, but slower since you can bump into walls\n",
        "    # a = np.random.choice(ALL_POSSIBLE_ACTIONS)\n",
        "    r = grid.move(a)\n",
        "    s2 = grid.current_state()\n",
        "\n",
        "    # we will update Q(s,a) AS we experience the episode\n",
        "    old_qsa = Q[s][a]\n",
        "    # the difference between SARSA and Q-Learning is with Q-Learning\n",
        "    # we will use this max[a']{ Q(s',a')} in our update\n",
        "    # even if we do not end up taking this action in the next step\n",
        "    a2, max_q_s2a2 = max_dict(Q[s2])\n",
        "    Q[s][a] = Q[s][a] + ALPHA*(r + GAMMA*max_q_s2a2 - Q[s][a])\n",
        "    biggest_change = max(biggest_change, np.abs(old_qsa - Q[s][a]))\n",
        "\n",
        "    # we would like to know how often Q(s) has been updated too\n",
        "    update_counts[s] = update_counts.get(s,0) + 1\n",
        "\n",
        "    # next state becomes current state\n",
        "    s = s2\n",
        "    a = a2\n",
        "    \n",
        "  deltas.append(biggest_change)"
      ],
      "execution_count": 11,
      "outputs": [
        {
          "output_type": "stream",
          "text": [
            "it: 0\n",
            "it: 2000\n",
            "it: 4000\n",
            "it: 6000\n",
            "it: 8000\n"
          ],
          "name": "stdout"
        }
      ]
    },
    {
      "cell_type": "code",
      "metadata": {
        "id": "zK682WLXSFGj",
        "colab_type": "code",
        "colab": {
          "base_uri": "https://localhost:8080/",
          "height": 265
        },
        "outputId": "12da075a-6cee-4740-b052-0aecc83f2388"
      },
      "source": [
        "plt.plot(deltas)\n",
        "plt.show()"
      ],
      "execution_count": 12,
      "outputs": [
        {
          "output_type": "display_data",
          "data": {
            "image/png": "[encoded data removed]",
            "text/plain": [
              "<Figure size 432x288 with 1 Axes>"
            ]
          },
          "metadata": {
            "tags": [],
            "needs_background": "light"
          }
        }
      ]
    },
    {
      "cell_type": "code",
      "metadata": {
        "id": "eWq-F-jJSHTO",
        "colab_type": "code",
        "colab": {}
      },
      "source": [
        "# determine the policy from Q*\n",
        "# find V* from Q*\n",
        "policy = {}\n",
        "V = {}\n",
        "for s in grid.actions.keys():\n",
        "  a, max_q = max_dict(Q[s])\n",
        "  policy[s] = a\n",
        "  V[s] = max_q"
      ],
      "execution_count": 0,
      "outputs": []
    },
    {
      "cell_type": "code",
      "metadata": {
        "id": "U2I6f8T-SJh_",
        "colab_type": "code",
        "colab": {
          "base_uri": "https://localhost:8080/",
          "height": 136
        },
        "outputId": "4abbf707-e3ed-4a00-9ce5-6de4af36049c"
      },
      "source": [
        "# what's the proportion of time we spend updating each part of Q?\n",
        "print(\"update counts:\")\n",
        "total = np.sum(list(update_counts.values()))\n",
        "for k, v in update_counts.items():\n",
        "  update_counts[k] = float(v) / total\n",
        "print_values(update_counts, grid)"
      ],
      "execution_count": 14,
      "outputs": [
        {
          "output_type": "stream",
          "text": [
            "update counts:\n",
            "---------------------------\n",
            " 0.18| 0.18| 0.18| 0.00|\n",
            "---------------------------\n",
            " 0.18| 0.00| 0.04| 0.00|\n",
            "---------------------------\n",
            " 0.18| 0.02| 0.02| 0.00|\n"
          ],
          "name": "stdout"
        }
      ]
    },
    {
      "cell_type": "code",
      "metadata": {
        "id": "9ao88xlbSLjx",
        "colab_type": "code",
        "colab": {
          "base_uri": "https://localhost:8080/",
          "height": 255
        },
        "outputId": "62d4cd14-230f-4675-d46d-e232ee2034c6"
      },
      "source": [
        "print(\"values:\")\n",
        "print_values(V, grid)\n",
        "print(\"policy:\")\n",
        "print_policy(policy, grid)"
      ],
      "execution_count": 15,
      "outputs": [
        {
          "output_type": "stream",
          "text": [
            "values:\n",
            "---------------------------\n",
            " 0.62| 0.80| 1.00| 0.00|\n",
            "---------------------------\n",
            " 0.46| 0.00| 0.80| 0.00|\n",
            "---------------------------\n",
            " 0.31| 0.46| 0.62| 0.46|\n",
            "policy:\n",
            "---------------------------\n",
            "  R  |  R  |  R  |     |\n",
            "---------------------------\n",
            "  U  |     |  U  |     |\n",
            "---------------------------\n",
            "  U  |  R  |  U  |  L  |\n"
          ],
          "name": "stdout"
        }
      ]
    }
  ]
}