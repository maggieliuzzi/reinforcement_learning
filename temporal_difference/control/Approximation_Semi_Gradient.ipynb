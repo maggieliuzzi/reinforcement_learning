{
  "nbformat": 4,
  "nbformat_minor": 0,
  "metadata": {
    "colab": {
      "name": "Approximation_Semi-Gradient.ipynb",
      "provenance": [],
      "authorship_tag": "ABX9TyMkPFlTfFFy6FfbUs+9WxGL",
      "include_colab_link": true
    },
    "kernelspec": {
      "name": "python3",
      "display_name": "Python 3"
    }
  },
  "cells": [
    {
      "cell_type": "markdown",
      "metadata": {
        "id": "view-in-github",
        "colab_type": "text"
      },
      "source": [
        "<a href=\"https://colab.research.google.com/github/maggieliuzzi/reinforcement_learning/blob/master/temporal_difference/control/Approximation_Semi_Gradient.ipynb\" target=\"_parent\"><img src=\"https://colab.research.google.com/assets/colab-badge.svg\" alt=\"Open In Colab\"/></a>"
      ]
    },
    {
      "cell_type": "markdown",
      "metadata": {
        "id": "Ls6kkPjdXTRB",
        "colab_type": "text"
      },
      "source": [
        "**Temporal Difference** | Control Problem | SARSA with Approximation, Semi-Gradient"
      ]
    },
    {
      "cell_type": "code",
      "metadata": {
        "id": "9kUg9lm5XQmF",
        "colab_type": "code",
        "colab": {}
      },
      "source": [
        "from __future__ import print_function, division\n",
        "from builtins import range\n",
        "import matplotlib.pyplot as plt\n",
        "import numpy as np\n",
        "!wget \"https://raw.githubusercontent.com/lazyprogrammer/machine_learning_examples/master/rl/grid_world.py\"\n",
        "from grid_world import standard_grid, negative_grid\n",
        "!wget \"https://raw.githubusercontent.com/maggieliuzzi/reinforcement_learning/master/environments/utils.py\"\n",
        "from utils import print_values, print_policy"
      ],
      "execution_count": 0,
      "outputs": []
    },
    {
      "cell_type": "code",
      "metadata": {
        "id": "3u56Wj5IYSAi",
        "colab_type": "code",
        "colab": {}
      },
      "source": [
        "GAMMA = 0.9\n",
        "ALPHA = 0.1\n",
        "ALL_POSSIBLE_ACTIONS = ('U', 'D', 'L', 'R')\n",
        "SA2IDX = {}\n",
        "IDX = 0"
      ],
      "execution_count": 0,
      "outputs": []
    },
    {
      "cell_type": "code",
      "metadata": {
        "id": "6F3VJF5SYJmp",
        "colab_type": "code",
        "colab": {}
      },
      "source": [
        "def max_dict(d):\n",
        "  # returns the argmax (key) and max (value) from a dictionary\n",
        "  # put this into a function since we are using it so often\n",
        "  max_key = None\n",
        "  max_val = float('-inf')\n",
        "  for k, v in d.items():\n",
        "    if v > max_val:\n",
        "      max_val = v\n",
        "      max_key = k\n",
        "  return max_key, max_val"
      ],
      "execution_count": 0,
      "outputs": []
    },
    {
      "cell_type": "code",
      "metadata": {
        "id": "R_HtsvMSYxBn",
        "colab_type": "code",
        "colab": {}
      },
      "source": [
        "def random_action(a, eps=0.1):\n",
        "  # we'll use epsilon-soft to ensure all states are visited\n",
        "  # what happens if you don't do this? i.e. eps=0\n",
        "  p = np.random.random()\n",
        "  if p < (1 - eps):\n",
        "    return a\n",
        "  else:\n",
        "    return np.random.choice(ALL_POSSIBLE_ACTIONS)"
      ],
      "execution_count": 0,
      "outputs": []
    },
    {
      "cell_type": "code",
      "metadata": {
        "id": "EKGhdE61Y4hy",
        "colab_type": "code",
        "colab": {}
      },
      "source": [
        "class Model:\n",
        "  def __init__(self):\n",
        "    self.theta = np.random.randn(25) / np.sqrt(25)\n",
        "    # if we use SA2IDX, a one-hot encoding for every (s,a) pair\n",
        "    # in reality we wouldn't want to do this b/c we have just\n",
        "    # as many params as before\n",
        "    # print \"D:\", IDX\n",
        "    # self.theta = np.random.randn(IDX) / np.sqrt(IDX)\n",
        "\n",
        "  def sa2x(self, s, a):\n",
        "    # NOTE: using just (r, c, r*c, u, d, l, r, 1) is not expressive enough\n",
        "    return np.array([\n",
        "      s[0] - 1              if a == 'U' else 0,\n",
        "      s[1] - 1.5            if a == 'U' else 0,\n",
        "      (s[0]*s[1] - 3)/3     if a == 'U' else 0,\n",
        "      (s[0]*s[0] - 2)/2     if a == 'U' else 0,\n",
        "      (s[1]*s[1] - 4.5)/4.5 if a == 'U' else 0,\n",
        "      1                     if a == 'U' else 0,\n",
        "      s[0] - 1              if a == 'D' else 0,\n",
        "      s[1] - 1.5            if a == 'D' else 0,\n",
        "      (s[0]*s[1] - 3)/3     if a == 'D' else 0,\n",
        "      (s[0]*s[0] - 2)/2     if a == 'D' else 0,\n",
        "      (s[1]*s[1] - 4.5)/4.5 if a == 'D' else 0,\n",
        "      1                     if a == 'D' else 0,\n",
        "      s[0] - 1              if a == 'L' else 0,\n",
        "      s[1] - 1.5            if a == 'L' else 0,\n",
        "      (s[0]*s[1] - 3)/3     if a == 'L' else 0,\n",
        "      (s[0]*s[0] - 2)/2     if a == 'L' else 0,\n",
        "      (s[1]*s[1] - 4.5)/4.5 if a == 'L' else 0,\n",
        "      1                     if a == 'L' else 0,\n",
        "      s[0] - 1              if a == 'R' else 0,\n",
        "      s[1] - 1.5            if a == 'R' else 0,\n",
        "      (s[0]*s[1] - 3)/3     if a == 'R' else 0,\n",
        "      (s[0]*s[0] - 2)/2     if a == 'R' else 0,\n",
        "      (s[1]*s[1] - 4.5)/4.5 if a == 'R' else 0,\n",
        "      1                     if a == 'R' else 0,\n",
        "      1\n",
        "    ])\n",
        "    # if we use SA2IDX, a one-hot encoding for every (s,a) pair\n",
        "    # in reality we wouldn't want to do this b/c we have just\n",
        "    # as many params as before\n",
        "    # x = np.zeros(len(self.theta))\n",
        "    # idx = SA2IDX[s][a]\n",
        "    # x[idx] = 1\n",
        "    # return x\n",
        "\n",
        "  def predict(self, s, a):\n",
        "    x = self.sa2x(s, a)\n",
        "    return self.theta.dot(x)\n",
        "\n",
        "  def grad(self, s, a):\n",
        "    return self.sa2x(s, a)"
      ],
      "execution_count": 0,
      "outputs": []
    },
    {
      "cell_type": "code",
      "metadata": {
        "id": "rRzdGNagY5d3",
        "colab_type": "code",
        "colab": {}
      },
      "source": [
        "def getQs(model, s):\n",
        "  # we need Q(s,a) to choose an action\n",
        "  # i.e. a = argmax[a]{ Q(s,a) }\n",
        "  Qs = {}\n",
        "  for a in ALL_POSSIBLE_ACTIONS:\n",
        "    q_sa = model.predict(s, a)\n",
        "    Qs[a] = q_sa\n",
        "    \n",
        "  return Qs"
      ],
      "execution_count": 0,
      "outputs": []
    },
    {
      "cell_type": "code",
      "metadata": {
        "id": "ZsKqyxnaY8JA",
        "colab_type": "code",
        "colab": {
          "base_uri": "https://localhost:8080/",
          "height": 136
        },
        "outputId": "21ae38dc-1644-42d1-b568-f30378de7fb7"
      },
      "source": [
        "grid = negative_grid(step_cost=-0.1)\n",
        "\n",
        "print(\"rewards:\")\n",
        "print_values(grid.rewards, grid)"
      ],
      "execution_count": 13,
      "outputs": [
        {
          "output_type": "stream",
          "text": [
            "rewards:\n",
            "---------------------------\n",
            "-0.10|-0.10|-0.10| 1.00|\n",
            "---------------------------\n",
            "-0.10| 0.00|-0.10|-1.00|\n",
            "---------------------------\n",
            "-0.10|-0.10|-0.10|-0.10|\n"
          ],
          "name": "stdout"
        }
      ]
    },
    {
      "cell_type": "code",
      "metadata": {
        "id": "GYmooqpnZDxW",
        "colab_type": "code",
        "colab": {}
      },
      "source": [
        "# no policy initialization, we will derive our policy from most recent Q\n",
        "# enumerate all (s,a) pairs, each will have its own weight in our \"dumb\" model\n",
        "# essentially each weight will be a measure of Q(s,a) itself\n",
        "states = grid.all_states()\n",
        "for s in states:\n",
        "  SA2IDX[s] = {}\n",
        "  for a in ALL_POSSIBLE_ACTIONS:\n",
        "    SA2IDX[s][a] = IDX\n",
        "    IDX += 1\n",
        "\n",
        "# initialize model\n",
        "model = Model()"
      ],
      "execution_count": 0,
      "outputs": []
    },
    {
      "cell_type": "code",
      "metadata": {
        "id": "FC3X38bNZIy8",
        "colab_type": "code",
        "colab": {
          "base_uri": "https://localhost:8080/",
          "height": 357
        },
        "outputId": "2a07d36b-fd11-45fc-f92c-f8d8b6a68e95"
      },
      "source": [
        "# repeat until convergence\n",
        "t = 1.0\n",
        "t2 = 1.0\n",
        "deltas = []\n",
        "for it in range(20000):\n",
        "  if it % 100 == 0:\n",
        "    t += 0.01\n",
        "    t2 += 0.01\n",
        "  if it % 1000 == 0:\n",
        "    print(\"it:\", it)\n",
        "  alpha = ALPHA / t2\n",
        "\n",
        "  # instead of 'generating' an epsiode, we will PLAY\n",
        "  # an episode within this loop\n",
        "  s = (2, 0) # start state\n",
        "  grid.set_state(s)\n",
        "\n",
        "  # get Q(s) so we can choose the first action\n",
        "  Qs = getQs(model, s)\n",
        "\n",
        "  # the first (s, r) tuple is the state we start in and 0\n",
        "  # (since we don't get a reward) for simply starting the game\n",
        "  # the last (s, r) tuple is the terminal state and the final reward\n",
        "  # the value for the terminal state is by definition 0, so we don't\n",
        "  # care about updating it.\n",
        "  a = max_dict(Qs)[0]\n",
        "  a = random_action(a, eps=0.5/t) # epsilon-greedy\n",
        "  biggest_change = 0\n",
        "  while not grid.game_over():\n",
        "    r = grid.move(a)\n",
        "    s2 = grid.current_state()\n",
        "\n",
        "    # we need the next action as well since Q(s,a) depends on Q(s',a')\n",
        "    # if s2 not in policy then it's a terminal state, all Q are 0\n",
        "    old_theta = model.theta.copy()\n",
        "    if grid.is_terminal(s2):\n",
        "      model.theta += alpha*(r - model.predict(s, a))*model.grad(s, a)\n",
        "    else:\n",
        "      # not terminal\n",
        "      Qs2 = getQs(model, s2)\n",
        "      a2 = max_dict(Qs2)[0]\n",
        "      a2 = random_action(a2, eps=0.5/t) # epsilon-greedy\n",
        "\n",
        "      # we will update Q(s,a) AS we experience the episode\n",
        "      model.theta += alpha*(r + GAMMA*model.predict(s2, a2) - model.predict(s, a))*model.grad(s, a)\n",
        "      \n",
        "      # next state becomes current state\n",
        "      s = s2\n",
        "      a = a2\n",
        "\n",
        "    biggest_change = max(biggest_change, np.abs(model.theta - old_theta).sum())\n",
        "  deltas.append(biggest_change)"
      ],
      "execution_count": 15,
      "outputs": [
        {
          "output_type": "stream",
          "text": [
            "it: 0\n",
            "it: 1000\n",
            "it: 2000\n",
            "it: 3000\n",
            "it: 4000\n",
            "it: 5000\n",
            "it: 6000\n",
            "it: 7000\n",
            "it: 8000\n",
            "it: 9000\n",
            "it: 10000\n",
            "it: 11000\n",
            "it: 12000\n",
            "it: 13000\n",
            "it: 14000\n",
            "it: 15000\n",
            "it: 16000\n",
            "it: 17000\n",
            "it: 18000\n",
            "it: 19000\n"
          ],
          "name": "stdout"
        }
      ]
    },
    {
      "cell_type": "code",
      "metadata": {
        "id": "HjAE44SSZL1c",
        "colab_type": "code",
        "colab": {
          "base_uri": "https://localhost:8080/",
          "height": 265
        },
        "outputId": "5999d560-fb8a-448d-f0d4-b38587f23697"
      },
      "source": [
        "plt.plot(deltas)\n",
        "plt.show()"
      ],
      "execution_count": 16,
      "outputs": [
        {
          "output_type": "display_data",
          "data": {
            "image/png": "[encoded data removed]",
            "text/plain": [
              "<Figure size 432x288 with 1 Axes>"
            ]
          },
          "metadata": {
            "tags": [],
            "needs_background": "light"
          }
        }
      ]
    },
    {
      "cell_type": "code",
      "metadata": {
        "id": "Fw40hwD0ZOtC",
        "colab_type": "code",
        "colab": {}
      },
      "source": [
        "# determine the policy from Q*\n",
        "# find V* from Q*\n",
        "policy = {}\n",
        "V = {}\n",
        "Q = {}\n",
        "for s in grid.actions.keys():\n",
        "  Qs = getQs(model, s)\n",
        "  Q[s] = Qs\n",
        "  a, max_q = max_dict(Qs)\n",
        "  policy[s] = a\n",
        "  V[s] = max_q"
      ],
      "execution_count": 0,
      "outputs": []
    },
    {
      "cell_type": "code",
      "metadata": {
        "id": "fACgTTuPZQen",
        "colab_type": "code",
        "colab": {
          "base_uri": "https://localhost:8080/",
          "height": 255
        },
        "outputId": "1d5f79d8-7909-4242-b851-70f77762c7e8"
      },
      "source": [
        "print(\"values:\")\n",
        "print_values(V, grid)\n",
        "print(\"policy:\")\n",
        "print_policy(policy, grid)"
      ],
      "execution_count": 18,
      "outputs": [
        {
          "output_type": "stream",
          "text": [
            "values:\n",
            "---------------------------\n",
            " 0.55| 0.76| 0.99| 0.00|\n",
            "---------------------------\n",
            " 0.39| 0.00| 0.59| 0.00|\n",
            "---------------------------\n",
            " 0.22| 0.04| 0.18| 0.65|\n",
            "policy:\n",
            "---------------------------\n",
            "  R  |  R  |  R  |     |\n",
            "---------------------------\n",
            "  U  |     |  U  |     |\n",
            "---------------------------\n",
            "  U  |  U  |  U  |  U  |\n"
          ],
          "name": "stdout"
        }
      ]
    }
  ]
}