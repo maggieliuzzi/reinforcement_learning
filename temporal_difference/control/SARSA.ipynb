{
  "nbformat": 4,
  "nbformat_minor": 0,
  "metadata": {
    "colab": {
      "name": "SARSA.ipynb",
      "provenance": [],
      "authorship_tag": "ABX9TyOTP8+p1Bu6s9CXbP7x5K4V",
      "include_colab_link": true
    },
    "kernelspec": {
      "name": "python3",
      "display_name": "Python 3"
    }
  },
  "cells": [
    {
      "cell_type": "markdown",
      "metadata": {
        "id": "view-in-github",
        "colab_type": "text"
      },
      "source": [
        "<a href=\"https://colab.research.google.com/github/maggieliuzzi/reinforcement_learning/blob/master/temporal_difference/control/SARSA.ipynb\" target=\"_parent\"><img src=\"https://colab.research.google.com/assets/colab-badge.svg\" alt=\"Open In Colab\"/></a>"
      ]
    },
    {
      "cell_type": "markdown",
      "metadata": {
        "id": "Jtgia64tLF4w",
        "colab_type": "text"
      },
      "source": [
        "**Temporal Difference** | Control Problem | SARSA"
      ]
    },
    {
      "cell_type": "code",
      "metadata": {
        "id": "qF4ru10iLD12",
        "colab_type": "code",
        "colab": {}
      },
      "source": [
        "from __future__ import print_function, division\n",
        "from builtins import range\n",
        "import matplotlib.pyplot as plt\n",
        "import numpy as np\n",
        "!wget \"https://raw.githubusercontent.com/lazyprogrammer/machine_learning_examples/master/rl/grid_world.py\"\n",
        "from grid_world import standard_grid, negative_grid\n",
        "!wget \"https://raw.githubusercontent.com/maggieliuzzi/reinforcement_learning/master/environments/utils.py\"\n",
        "from utils import print_values, print_policy"
      ],
      "execution_count": 0,
      "outputs": []
    },
    {
      "cell_type": "code",
      "metadata": {
        "id": "sRDRyLEkLPV2",
        "colab_type": "code",
        "colab": {}
      },
      "source": [
        "GAMMA = 0.9\n",
        "ALPHA = 0.1\n",
        "ALL_POSSIBLE_ACTIONS = ('U', 'D', 'L', 'R')"
      ],
      "execution_count": 0,
      "outputs": []
    },
    {
      "cell_type": "code",
      "metadata": {
        "id": "rWxRBDMULPjb",
        "colab_type": "code",
        "colab": {}
      },
      "source": [
        "def random_action(a, eps=0.1):\n",
        "  # we'll use epsilon-soft to ensure all states are visited\n",
        "  # what happens if you don't do this? i.e. eps=0\n",
        "  p = np.random.random()\n",
        "  if p < (1 - eps):\n",
        "    return a\n",
        "  else:\n",
        "    return np.random.choice(ALL_POSSIBLE_ACTIONS)"
      ],
      "execution_count": 0,
      "outputs": []
    },
    {
      "cell_type": "code",
      "metadata": {
        "id": "cvXcHTQILSgm",
        "colab_type": "code",
        "colab": {}
      },
      "source": [
        "def max_dict(d):\n",
        "  # returns the argmax (key) and max (value) from a dictionary\n",
        "  max_key = None\n",
        "  max_val = float('-inf')\n",
        "  for k, v in d.items():\n",
        "    if v > max_val:\n",
        "      max_val = v\n",
        "      max_key = k\n",
        "  return max_key, max_val"
      ],
      "execution_count": 0,
      "outputs": []
    },
    {
      "cell_type": "code",
      "metadata": {
        "id": "xkxPHhRaLV5B",
        "colab_type": "code",
        "colab": {
          "base_uri": "https://localhost:8080/",
          "height": 136
        },
        "outputId": "033440e1-cc0c-4099-c3fd-5352b5e2273a"
      },
      "source": [
        "grid = negative_grid(step_cost=-0.1)\n",
        "\n",
        "# print rewards\n",
        "print(\"rewards:\")\n",
        "print_values(grid.rewards, grid)"
      ],
      "execution_count": 9,
      "outputs": [
        {
          "output_type": "stream",
          "text": [
            "rewards:\n",
            "---------------------------\n",
            "-0.10|-0.10|-0.10| 1.00|\n",
            "---------------------------\n",
            "-0.10| 0.00|-0.10|-1.00|\n",
            "---------------------------\n",
            "-0.10|-0.10|-0.10|-0.10|\n"
          ],
          "name": "stdout"
        }
      ]
    },
    {
      "cell_type": "code",
      "metadata": {
        "id": "S5VphFt4LflB",
        "colab_type": "code",
        "colab": {}
      },
      "source": [
        "# no policy initialization, we will derive our policy from most recent Q\n",
        "\n",
        "# initialize Q(s,a)\n",
        "Q = {}\n",
        "states = grid.all_states()\n",
        "for s in states:\n",
        "  Q[s] = {}\n",
        "  for a in ALL_POSSIBLE_ACTIONS:\n",
        "    Q[s][a] = 0"
      ],
      "execution_count": 0,
      "outputs": []
    },
    {
      "cell_type": "code",
      "metadata": {
        "id": "WxhfAoXULo6g",
        "colab_type": "code",
        "colab": {}
      },
      "source": [
        "# let's also keep track of how many times Q[s] has been updated\n",
        "update_counts = {}\n",
        "update_counts_sa = {}\n",
        "for s in states:\n",
        "  update_counts_sa[s] = {}\n",
        "  for a in ALL_POSSIBLE_ACTIONS:\n",
        "    update_counts_sa[s][a] = 1.0"
      ],
      "execution_count": 0,
      "outputs": []
    },
    {
      "cell_type": "code",
      "metadata": {
        "id": "LhrYNwFVLq7S",
        "colab_type": "code",
        "colab": {
          "base_uri": "https://localhost:8080/",
          "height": 102
        },
        "outputId": "de6188ef-27af-4155-910d-f33847a54b8d"
      },
      "source": [
        "# repeat until convergence\n",
        "t = 1.0\n",
        "deltas = []\n",
        "for it in range(10000):\n",
        "  if it % 100 == 0:\n",
        "    t += 1e-2\n",
        "  if it % 2000 == 0:\n",
        "    print(\"it:\", it)\n",
        "\n",
        "  # instead of 'generating' an epsiode, we will PLAY\n",
        "  # an episode within this loop\n",
        "  s = (2, 0) # start state\n",
        "  grid.set_state(s)\n",
        "\n",
        "  # the first (s, r) tuple is the state we start in and 0\n",
        "  # (since we don't get a reward) for simply starting the game\n",
        "  # the last (s, r) tuple is the terminal state and the final reward\n",
        "  # the value for the terminal state is by definition 0, so we don't\n",
        "  # care about updating it.\n",
        "  a = max_dict(Q[s])[0]\n",
        "  a = random_action(a, eps=0.5/t)\n",
        "  biggest_change = 0\n",
        "  while not grid.game_over():\n",
        "    r = grid.move(a)\n",
        "    s2 = grid.current_state()\n",
        "\n",
        "    # we need the next action as well since Q(s,a) depends on Q(s',a')\n",
        "    # if s2 not in policy then it's a terminal state, all Q are 0\n",
        "    a2 = max_dict(Q[s2])[0]\n",
        "    a2 = random_action(a2, eps=0.5/t) # epsilon-greedy\n",
        "\n",
        "    # we will update Q(s,a) AS we experience the episode\n",
        "    old_qsa = Q[s][a]\n",
        "    Q[s][a] = Q[s][a] + ALPHA*(r + GAMMA*Q[s2][a2] - Q[s][a])\n",
        "    biggest_change = max(biggest_change, np.abs(old_qsa - Q[s][a]))\n",
        "\n",
        "    # we would like to know how often Q(s) has been updated too\n",
        "    update_counts[s] = update_counts.get(s,0) + 1\n",
        "\n",
        "    # next state becomes current state\n",
        "    s = s2\n",
        "    a = a2\n",
        "\n",
        "  deltas.append(biggest_change)"
      ],
      "execution_count": 12,
      "outputs": [
        {
          "output_type": "stream",
          "text": [
            "it: 0\n",
            "it: 2000\n",
            "it: 4000\n",
            "it: 6000\n",
            "it: 8000\n"
          ],
          "name": "stdout"
        }
      ]
    },
    {
      "cell_type": "code",
      "metadata": {
        "id": "_45-PtCQLwBQ",
        "colab_type": "code",
        "colab": {
          "base_uri": "https://localhost:8080/",
          "height": 265
        },
        "outputId": "ac8929fa-b389-46ce-8c35-65957fd7a984"
      },
      "source": [
        "plt.plot(deltas)\n",
        "plt.show()"
      ],
      "execution_count": 13,
      "outputs": [
        {
          "output_type": "display_data",
          "data": {
            "image/png": "[encoded data removed]",
            "text/plain": [
              "<Figure size 432x288 with 1 Axes>"
            ]
          },
          "metadata": {
            "tags": [],
            "needs_background": "light"
          }
        }
      ]
    },
    {
      "cell_type": "code",
      "metadata": {
        "id": "h54J02l8L0PM",
        "colab_type": "code",
        "colab": {}
      },
      "source": [
        "# determine the policy from Q*\n",
        "# find V* from Q*\n",
        "policy = {}\n",
        "V = {}\n",
        "for s in grid.actions.keys():\n",
        "  a, max_q = max_dict(Q[s])\n",
        "  policy[s] = a\n",
        "  V[s] = max_q"
      ],
      "execution_count": 0,
      "outputs": []
    },
    {
      "cell_type": "code",
      "metadata": {
        "id": "zGpARVvcL0-V",
        "colab_type": "code",
        "colab": {
          "base_uri": "https://localhost:8080/",
          "height": 136
        },
        "outputId": "a369eebd-863e-488d-80a9-659d534a020e"
      },
      "source": [
        "# what's the proportion of time we spend updating each part of Q?\n",
        "print(\"update counts:\")\n",
        "total = np.sum(list(update_counts.values()))\n",
        "for k, v in update_counts.items():\n",
        "  update_counts[k] = float(v) / total\n",
        "print_values(update_counts, grid)"
      ],
      "execution_count": 15,
      "outputs": [
        {
          "output_type": "stream",
          "text": [
            "update counts:\n",
            "---------------------------\n",
            " 0.19| 0.18| 0.18| 0.00|\n",
            "---------------------------\n",
            " 0.18| 0.00| 0.04| 0.00|\n",
            "---------------------------\n",
            " 0.18| 0.02| 0.03| 0.00|\n"
          ],
          "name": "stdout"
        }
      ]
    },
    {
      "cell_type": "code",
      "metadata": {
        "id": "eX8Sna1PL4aZ",
        "colab_type": "code",
        "colab": {
          "base_uri": "https://localhost:8080/",
          "height": 255
        },
        "outputId": "574c90eb-08c4-420c-bb76-131302cc8ded"
      },
      "source": [
        "print(\"values:\")\n",
        "print_values(V, grid)\n",
        "print(\"policy:\")\n",
        "print_policy(policy, grid)"
      ],
      "execution_count": 16,
      "outputs": [
        {
          "output_type": "stream",
          "text": [
            "values:\n",
            "---------------------------\n",
            " 0.51| 0.75| 1.00| 0.00|\n",
            "---------------------------\n",
            " 0.31| 0.00| 0.72| 0.00|\n",
            "---------------------------\n",
            " 0.16| 0.17| 0.41| 0.21|\n",
            "policy:\n",
            "---------------------------\n",
            "  R  |  R  |  R  |     |\n",
            "---------------------------\n",
            "  U  |     |  U  |     |\n",
            "---------------------------\n",
            "  U  |  R  |  U  |  L  |\n"
          ],
          "name": "stdout"
        }
      ]
    }
  ]
}