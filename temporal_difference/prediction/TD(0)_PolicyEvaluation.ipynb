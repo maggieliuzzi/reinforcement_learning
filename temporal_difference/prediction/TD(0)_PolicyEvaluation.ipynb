{
  "nbformat": 4,
  "nbformat_minor": 0,
  "metadata": {
    "colab": {
      "name": "TD(0)-PolicyEvaluation.ipynb",
      "provenance": [],
      "authorship_tag": "ABX9TyOSogpUbQmIyzzRszrx1Jt5",
      "include_colab_link": true
    },
    "kernelspec": {
      "name": "python3",
      "display_name": "Python 3"
    }
  },
  "cells": [
    {
      "cell_type": "markdown",
      "metadata": {
        "id": "view-in-github",
        "colab_type": "text"
      },
      "source": [
        "<a href=\"https://colab.research.google.com/github/maggieliuzzi/reinforcement_learning/blob/master/temporal_difference/prediction/TD(0)_PolicyEvaluation.ipynb\" target=\"_parent\"><img src=\"https://colab.research.google.com/assets/colab-badge.svg\" alt=\"Open In Colab\"/></a>"
      ]
    },
    {
      "cell_type": "markdown",
      "metadata": {
        "id": "50XG1_MQKE5e",
        "colab_type": "text"
      },
      "source": [
        "**Temporal Difference** | Prediction Problem | Policy Evaluation"
      ]
    },
    {
      "cell_type": "code",
      "metadata": {
        "id": "nXvYwKClJ52e",
        "colab_type": "code",
        "colab": {}
      },
      "source": [
        "from __future__ import print_function, division\n",
        "from builtins import range\n",
        "import matplotlib.pyplot as plt\n",
        "import numpy as np\n",
        "!wget \"https://raw.githubusercontent.com/lazyprogrammer/machine_learning_examples/master/rl/grid_world.py\"\n",
        "from grid_world import standard_grid, negative_grid\n",
        "!wget \"https://raw.githubusercontent.com/maggieliuzzi/reinforcement_learning/master/environments/utils.py\"\n",
        "from utils import print_values, print_policy"
      ],
      "execution_count": 0,
      "outputs": []
    },
    {
      "cell_type": "code",
      "metadata": {
        "id": "45pgZznvKOMC",
        "colab_type": "code",
        "colab": {}
      },
      "source": [
        "SMALL_ENOUGH = 1e-3\n",
        "GAMMA = 0.9\n",
        "ALPHA = 0.1\n",
        "ALL_POSSIBLE_ACTIONS = ('U', 'D', 'L', 'R')"
      ],
      "execution_count": 0,
      "outputs": []
    },
    {
      "cell_type": "code",
      "metadata": {
        "id": "CSTIuuWpKc9z",
        "colab_type": "code",
        "colab": {}
      },
      "source": [
        "def random_action(a, eps=0.1):\n",
        "  # we'll use epsilon-soft to ensure all states are visited\n",
        "  # what happens if you don't do this? i.e. eps=0\n",
        "  p = np.random.random()\n",
        "  if p < (1 - eps):\n",
        "    return a\n",
        "  else:\n",
        "    return np.random.choice(ALL_POSSIBLE_ACTIONS)"
      ],
      "execution_count": 0,
      "outputs": []
    },
    {
      "cell_type": "code",
      "metadata": {
        "id": "dmz5DxKwKeCO",
        "colab_type": "code",
        "colab": {}
      },
      "source": [
        "def play_game(grid, policy):\n",
        "  # returns a list of states and corresponding rewards (not returns as in MC)\n",
        "  # start at the designated start state\n",
        "  s = (2, 0)\n",
        "  grid.set_state(s)\n",
        "  states_and_rewards = [(s, 0)] # list of tuples of (state, reward)\n",
        "  while not grid.game_over():\n",
        "    a = policy[s]\n",
        "    a = random_action(a)\n",
        "    r = grid.move(a)\n",
        "    s = grid.current_state()\n",
        "    states_and_rewards.append((s, r))\n",
        "    \n",
        "  return states_and_rewards"
      ],
      "execution_count": 0,
      "outputs": []
    },
    {
      "cell_type": "code",
      "metadata": {
        "id": "YV2L9ZfEKmZH",
        "colab_type": "code",
        "colab": {
          "base_uri": "https://localhost:8080/",
          "height": 136
        },
        "outputId": "33c2c6b5-93a1-4be4-93b6-5cc9d0198679"
      },
      "source": [
        "grid = standard_grid()\n",
        "\n",
        "# print rewards\n",
        "print(\"rewards:\")\n",
        "print_values(grid.rewards, grid)"
      ],
      "execution_count": 6,
      "outputs": [
        {
          "output_type": "stream",
          "text": [
            "rewards:\n",
            "---------------------------\n",
            " 0.00| 0.00| 0.00| 1.00|\n",
            "---------------------------\n",
            " 0.00| 0.00| 0.00|-1.00|\n",
            "---------------------------\n",
            " 0.00| 0.00| 0.00| 0.00|\n"
          ],
          "name": "stdout"
        }
      ]
    },
    {
      "cell_type": "code",
      "metadata": {
        "id": "D3gYK_2fKpag",
        "colab_type": "code",
        "colab": {}
      },
      "source": [
        "# state -> action\n",
        "policy = {\n",
        "  (2, 0): 'U',\n",
        "  (1, 0): 'U',\n",
        "  (0, 0): 'R',\n",
        "  (0, 1): 'R',\n",
        "  (0, 2): 'R',\n",
        "  (1, 2): 'R',\n",
        "  (2, 1): 'R',\n",
        "  (2, 2): 'R',\n",
        "  (2, 3): 'U',\n",
        "}"
      ],
      "execution_count": 0,
      "outputs": []
    },
    {
      "cell_type": "code",
      "metadata": {
        "id": "M_MlbZawKrPv",
        "colab_type": "code",
        "colab": {}
      },
      "source": [
        "# initialize V(s) and returns\n",
        "V = {}\n",
        "states = grid.all_states()\n",
        "for s in states:\n",
        "  V[s] = 0"
      ],
      "execution_count": 0,
      "outputs": []
    },
    {
      "cell_type": "code",
      "metadata": {
        "id": "8-Rf6IsTKtjY",
        "colab_type": "code",
        "colab": {}
      },
      "source": [
        "# repeat until convergence\n",
        "for it in range(1000):\n",
        "\n",
        "  # generate an episode using pi\n",
        "  states_and_rewards = play_game(grid, policy)\n",
        "  # the first (s, r) tuple is the state we start in and 0\n",
        "  # (since we don't get a reward) for simply starting the game\n",
        "  # the last (s, r) tuple is the terminal state and the final reward\n",
        "  # the value for the terminal state is by definition 0, so we don't\n",
        "  # care about updating it.\n",
        "  for t in range(len(states_and_rewards) - 1):\n",
        "    s, _ = states_and_rewards[t]\n",
        "    s2, r = states_and_rewards[t+1]\n",
        "    # we will update V(s) AS we experience the episode\n",
        "    V[s] = V[s] + ALPHA*(r + GAMMA*V[s2] - V[s])"
      ],
      "execution_count": 0,
      "outputs": []
    },
    {
      "cell_type": "code",
      "metadata": {
        "id": "w7sPlmFOKvrY",
        "colab_type": "code",
        "colab": {
          "base_uri": "https://localhost:8080/",
          "height": 255
        },
        "outputId": "79600331-6b50-4a47-d057-6622cbe33cc7"
      },
      "source": [
        "print(\"values:\")\n",
        "print_values(V, grid)\n",
        "print(\"policy:\")\n",
        "print_policy(policy, grid)"
      ],
      "execution_count": 10,
      "outputs": [
        {
          "output_type": "stream",
          "text": [
            "values:\n",
            "---------------------------\n",
            " 0.79| 0.89| 1.00| 0.00|\n",
            "---------------------------\n",
            " 0.71| 0.00|-0.76| 0.00|\n",
            "---------------------------\n",
            " 0.57|-0.44|-0.72|-0.93|\n",
            "policy:\n",
            "---------------------------\n",
            "  R  |  R  |  R  |     |\n",
            "---------------------------\n",
            "  U  |     |  R  |     |\n",
            "---------------------------\n",
            "  U  |  R  |  R  |  U  |\n"
          ],
          "name": "stdout"
        }
      ]
    }
  ]
}