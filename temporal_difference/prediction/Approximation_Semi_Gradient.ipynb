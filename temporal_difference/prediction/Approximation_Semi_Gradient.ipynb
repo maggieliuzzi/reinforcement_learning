{
  "nbformat": 4,
  "nbformat_minor": 0,
  "metadata": {
    "colab": {
      "name": "Approximation-Semi-Gradient.ipynb",
      "provenance": [],
      "authorship_tag": "ABX9TyNT5B2plHNUEmUdKbKMtRPQ",
      "include_colab_link": true
    },
    "kernelspec": {
      "name": "python3",
      "display_name": "Python 3"
    }
  },
  "cells": [
    {
      "cell_type": "markdown",
      "metadata": {
        "id": "view-in-github",
        "colab_type": "text"
      },
      "source": [
        "<a href=\"https://colab.research.google.com/github/maggieliuzzi/reinforcement_learning/blob/master/temporal_difference/prediction/Approximation_Semi_Gradient.ipynb\" target=\"_parent\"><img src=\"https://colab.research.google.com/assets/colab-badge.svg\" alt=\"Open In Colab\"/></a>"
      ]
    },
    {
      "cell_type": "markdown",
      "metadata": {
        "id": "lR94S3YhVo0g",
        "colab_type": "text"
      },
      "source": [
        "**Temporal Difference** | Prediction Problem | TD(0) with Approximation, Semi-Gradient"
      ]
    },
    {
      "cell_type": "code",
      "metadata": {
        "id": "XdB7nYNUVEi4",
        "colab_type": "code",
        "colab": {}
      },
      "source": [
        "from __future__ import print_function, division\n",
        "from builtins import range\n",
        "import matplotlib.pyplot as plt\n",
        "import numpy as np\n",
        "!wget \"https://raw.githubusercontent.com/lazyprogrammer/machine_learning_examples/master/rl/grid_world.py\"\n",
        "from grid_world import standard_grid, negative_grid\n",
        "!wget \"https://raw.githubusercontent.com/maggieliuzzi/reinforcement_learning/master/environments/utils.py\"\n",
        "from utils import print_values, print_policy"
      ],
      "execution_count": 0,
      "outputs": []
    },
    {
      "cell_type": "code",
      "metadata": {
        "id": "dFrASadHV9Ex",
        "colab_type": "code",
        "colab": {}
      },
      "source": [
        "SMALL_ENOUGH = 1e-3\n",
        "GAMMA = 0.9\n",
        "ALPHA = 0.1\n",
        "ALL_POSSIBLE_ACTIONS = ('U', 'D', 'L', 'R')"
      ],
      "execution_count": 0,
      "outputs": []
    },
    {
      "cell_type": "code",
      "metadata": {
        "id": "mZOxzmFkWpZr",
        "colab_type": "code",
        "colab": {}
      },
      "source": [
        "def random_action(a, eps=0.1):\n",
        "  # we'll use epsilon-soft to ensure all states are visited\n",
        "  # what happens if you don't do this? i.e. eps=0\n",
        "  p = np.random.random()\n",
        "  if p < (1 - eps):\n",
        "    return a\n",
        "  else:\n",
        "    return np.random.choice(ALL_POSSIBLE_ACTIONS)"
      ],
      "execution_count": 0,
      "outputs": []
    },
    {
      "cell_type": "code",
      "metadata": {
        "id": "AEXlRdShV9ov",
        "colab_type": "code",
        "colab": {}
      },
      "source": [
        "def play_game(grid, policy):\n",
        "  # returns a list of states and corresponding rewards (not returns as in MC)\n",
        "  # start at the designated start state\n",
        "  s = (2, 0)\n",
        "  grid.set_state(s)\n",
        "  states_and_rewards = [(s, 0)] # list of tuples of (state, reward)\n",
        "  while not grid.game_over():\n",
        "    a = policy[s]\n",
        "    a = random_action(a)\n",
        "    r = grid.move(a)\n",
        "    s = grid.current_state()\n",
        "    states_and_rewards.append((s, r))\n",
        "    \n",
        "  return states_and_rewards"
      ],
      "execution_count": 0,
      "outputs": []
    },
    {
      "cell_type": "code",
      "metadata": {
        "id": "ZKY185cHWCQL",
        "colab_type": "code",
        "colab": {}
      },
      "source": [
        "class Model:\n",
        "  def __init__(self):\n",
        "    self.theta = np.random.randn(4) / 2\n",
        "  \n",
        "  def s2x(self, s):\n",
        "    return np.array([s[0] - 1, s[1] - 1.5, s[0]*s[1] - 3, 1])\n",
        "\n",
        "  def predict(self, s):\n",
        "    x = self.s2x(s)\n",
        "    return self.theta.dot(x)\n",
        "\n",
        "  def grad(self, s):\n",
        "    return self.s2x(s)"
      ],
      "execution_count": 0,
      "outputs": []
    },
    {
      "cell_type": "code",
      "metadata": {
        "id": "V2VuO_pTWKw5",
        "colab_type": "code",
        "colab": {
          "base_uri": "https://localhost:8080/",
          "height": 136
        },
        "outputId": "9620a917-c53c-4fe7-f28a-ee6d79bce8fd"
      },
      "source": [
        "grid = standard_grid()\n",
        "\n",
        "print(\"rewards:\")\n",
        "print_values(grid.rewards, grid)"
      ],
      "execution_count": 13,
      "outputs": [
        {
          "output_type": "stream",
          "text": [
            "rewards:\n",
            "---------------------------\n",
            " 0.00| 0.00| 0.00| 1.00|\n",
            "---------------------------\n",
            " 0.00| 0.00| 0.00|-1.00|\n",
            "---------------------------\n",
            " 0.00| 0.00| 0.00| 0.00|\n"
          ],
          "name": "stdout"
        }
      ]
    },
    {
      "cell_type": "code",
      "metadata": {
        "id": "Y_tA1iGPWOUn",
        "colab_type": "code",
        "colab": {}
      },
      "source": [
        "# state -> action\n",
        "policy = {\n",
        "  (2, 0): 'U',\n",
        "  (1, 0): 'U',\n",
        "  (0, 0): 'R',\n",
        "  (0, 1): 'R',\n",
        "  (0, 2): 'R',\n",
        "  (1, 2): 'R',\n",
        "  (2, 1): 'R',\n",
        "  (2, 2): 'R',\n",
        "  (2, 3): 'U',\n",
        "}"
      ],
      "execution_count": 0,
      "outputs": []
    },
    {
      "cell_type": "code",
      "metadata": {
        "id": "EVvatSRsWQpw",
        "colab_type": "code",
        "colab": {}
      },
      "source": [
        "model = Model()\n",
        "deltas = []"
      ],
      "execution_count": 0,
      "outputs": []
    },
    {
      "cell_type": "code",
      "metadata": {
        "id": "Giv_PJjpWTHt",
        "colab_type": "code",
        "colab": {}
      },
      "source": [
        "# repeat until convergence\n",
        "k = 1.0\n",
        "for it in range(20000):\n",
        "  if it % 10 == 0:\n",
        "    k += 0.01\n",
        "  alpha = ALPHA/k\n",
        "  biggest_change = 0\n",
        "\n",
        "  # generate an episode using pi\n",
        "  states_and_rewards = play_game(grid, policy)\n",
        "  # the first (s, r) tuple is the state we start in and 0\n",
        "  # (since we don't get a reward) for simply starting the game\n",
        "  # the last (s, r) tuple is the terminal state and the final reward\n",
        "  # the value for the terminal state is by definition 0, so we don't\n",
        "  # care about updating it.\n",
        "  for t in range(len(states_and_rewards) - 1):\n",
        "    s, _ = states_and_rewards[t]\n",
        "    s2, r = states_and_rewards[t+1]\n",
        "    # we will update V(s) AS we experience the episode\n",
        "    old_theta = model.theta.copy()\n",
        "    if grid.is_terminal(s2):\n",
        "      target = r\n",
        "    else:\n",
        "      target = r + GAMMA*model.predict(s2)\n",
        "    model.theta += alpha*(target - model.predict(s))*model.grad(s)\n",
        "    biggest_change = max(biggest_change, np.abs(old_theta - model.theta).sum())\n",
        "  deltas.append(biggest_change)"
      ],
      "execution_count": 0,
      "outputs": []
    },
    {
      "cell_type": "code",
      "metadata": {
        "id": "3ux8rM4gWXVL",
        "colab_type": "code",
        "colab": {
          "base_uri": "https://localhost:8080/",
          "height": 265
        },
        "outputId": "1dd64c31-2a39-439b-80a7-57ee4911e26a"
      },
      "source": [
        "plt.plot(deltas)\n",
        "plt.show()"
      ],
      "execution_count": 17,
      "outputs": [
        {
          "output_type": "display_data",
          "data": {
            "image/png": "[encoded data removed]",
            "text/plain": [
              "<Figure size 432x288 with 1 Axes>"
            ]
          },
          "metadata": {
            "tags": [],
            "needs_background": "light"
          }
        }
      ]
    },
    {
      "cell_type": "code",
      "metadata": {
        "id": "1-PoVPrsWZN7",
        "colab_type": "code",
        "colab": {}
      },
      "source": [
        "# obtain predicted values\n",
        "V = {}\n",
        "states = grid.all_states()\n",
        "for s in states:\n",
        "  if s in grid.actions:\n",
        "    V[s] = model.predict(s)\n",
        "  else:\n",
        "    # terminal state or state we can't otherwise get to\n",
        "    V[s] = 0"
      ],
      "execution_count": 0,
      "outputs": []
    },
    {
      "cell_type": "code",
      "metadata": {
        "id": "G4-bTwJQWb9a",
        "colab_type": "code",
        "colab": {
          "base_uri": "https://localhost:8080/",
          "height": 255
        },
        "outputId": "2d18dc2b-cb40-4b5c-e181-0d3b1b33fbd5"
      },
      "source": [
        "print(\"values:\")\n",
        "print_values(V, grid)\n",
        "print(\"policy:\")\n",
        "print_policy(policy, grid)"
      ],
      "execution_count": 19,
      "outputs": [
        {
          "output_type": "stream",
          "text": [
            "values:\n",
            "---------------------------\n",
            " 0.73| 0.83| 0.92| 0.00|\n",
            "---------------------------\n",
            " 0.63| 0.00|-0.09| 0.00|\n",
            "---------------------------\n",
            " 0.52|-0.29|-1.09|-1.90|\n",
            "policy:\n",
            "---------------------------\n",
            "  R  |  R  |  R  |     |\n",
            "---------------------------\n",
            "  U  |     |  R  |     |\n",
            "---------------------------\n",
            "  U  |  R  |  R  |  U  |\n"
          ],
          "name": "stdout"
        }
      ]
    }
  ]
}