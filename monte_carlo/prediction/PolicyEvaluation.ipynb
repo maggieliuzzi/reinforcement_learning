{
  "nbformat": 4,
  "nbformat_minor": 0,
  "metadata": {
    "colab": {
      "name": "PolicyEvaluation.ipynb",
      "provenance": [],
      "authorship_tag": "ABX9TyMYEg8IGJS8dR20Wv0gtdXE",
      "include_colab_link": true
    },
    "kernelspec": {
      "name": "python3",
      "display_name": "Python 3"
    }
  },
  "cells": [
    {
      "cell_type": "markdown",
      "metadata": {
        "id": "view-in-github",
        "colab_type": "text"
      },
      "source": [
        "<a href=\"https://colab.research.google.com/github/maggieliuzzi/reinforcement_learning/blob/master/monte_carlo/prediction/PolicyEvaluation.ipynb\" target=\"_parent\"><img src=\"https://colab.research.google.com/assets/colab-badge.svg\" alt=\"Open In Colab\"/></a>"
      ]
    },
    {
      "cell_type": "markdown",
      "metadata": {
        "id": "vzj1lQOFAM6B",
        "colab_type": "text"
      },
      "source": [
        "**Monte Carlo** | Prediction Problem | Policy Evaluation\n",
        "\n",
        "Given a policy, find the value function\n",
        "\n",
        "- Policy (deciding what action to take given the state): 1) deterministic, 2) probabilistic"
      ]
    },
    {
      "cell_type": "code",
      "metadata": {
        "id": "D3RsOPOmALBf",
        "colab_type": "code",
        "colab": {}
      },
      "source": [
        "from __future__ import print_function, division\n",
        "from builtins import range\n",
        "import numpy as np\n",
        "!wget \"https://raw.githubusercontent.com/lazyprogrammer/machine_learning_examples/master/rl/grid_world.py\"\n",
        "from grid_world import standard_grid, negative_grid\n",
        "!wget \"https://raw.githubusercontent.com/maggieliuzzi/reinforcement_learning/master/environments/utils.py\"\n",
        "from utils import print_values, print_policy"
      ],
      "execution_count": 0,
      "outputs": []
    },
    {
      "cell_type": "code",
      "metadata": {
        "id": "j9kFHeH6AhNy",
        "colab_type": "code",
        "colab": {}
      },
      "source": [
        "SMALL_ENOUGH = 1e-3\n",
        "GAMMA = 0.9\n",
        "ALL_POSSIBLE_ACTIONS = ('U', 'D', 'L', 'R')"
      ],
      "execution_count": 0,
      "outputs": []
    },
    {
      "cell_type": "code",
      "metadata": {
        "id": "fHyvpvdUBb6R",
        "colab_type": "code",
        "colab": {}
      },
      "source": [
        "## For random policy\n",
        "def random_action(a):\n",
        "  # choose given a with probability 0.5\n",
        "  # choose some other a' != a with probability 0.5/3\n",
        "  p = np.random.random()\n",
        "  if p < 0.5:\n",
        "    return a\n",
        "  else:\n",
        "    tmp = list(ALL_POSSIBLE_ACTIONS)\n",
        "    tmp.remove(a)\n",
        "    return np.random.choice(tmp)"
      ],
      "execution_count": 0,
      "outputs": []
    },
    {
      "cell_type": "code",
      "metadata": {
        "id": "2zeQBxvpAjP-",
        "colab_type": "code",
        "colab": {}
      },
      "source": [
        "def play_game(grid, policy):\n",
        "  # returns a list of states and corresponding returns\n",
        "\n",
        "  # reset game to start at a random position\n",
        "  # we need to do this, because given our current deterministic policy\n",
        "  # we would never end up at certain states, but we still want to measure their value\n",
        "  start_states = list(grid.actions.keys())\n",
        "  start_idx = np.random.choice(len(start_states))\n",
        "  grid.set_state(start_states[start_idx])\n",
        "\n",
        "  s = grid.current_state()\n",
        "  states_and_rewards = [(s, 0)] # list of tuples of (state, reward)\n",
        "  while not grid.game_over():\n",
        "    a = policy[s]  ## Deterministic Policy\n",
        "    a = random_action(a)  ## Probabilistic Policy\n",
        "    r = grid.move(a)\n",
        "    s = grid.current_state()\n",
        "    states_and_rewards.append((s, r))\n",
        "  # calculate the returns by working backwards from the terminal state\n",
        "  G = 0\n",
        "  states_and_returns = []\n",
        "  first = True\n",
        "  for s, r in reversed(states_and_rewards):\n",
        "    # the value of the terminal state is 0 by definition\n",
        "    # we should ignore the first state we encounter\n",
        "    # and ignore the last G, which is meaningless since it doesn't correspond to any move\n",
        "    if first:\n",
        "      first = False\n",
        "    else:\n",
        "      states_and_returns.append((s, G))\n",
        "    G = r + GAMMA*G\n",
        "  states_and_returns.reverse() # we want it to be in order of state visited\n",
        "\n",
        "  return states_and_returns"
      ],
      "execution_count": 0,
      "outputs": []
    },
    {
      "cell_type": "code",
      "metadata": {
        "id": "v5HzeUzzAs64",
        "colab_type": "code",
        "colab": {
          "base_uri": "https://localhost:8080/",
          "height": 136
        },
        "outputId": "94b139ed-b00f-4583-bb6b-d18cedda1bec"
      },
      "source": [
        "grid = standard_grid()\n",
        "\n",
        "print(\"rewards:\")\n",
        "print_values(grid.rewards, grid)"
      ],
      "execution_count": 19,
      "outputs": [
        {
          "output_type": "stream",
          "text": [
            "rewards:\n",
            "---------------------------\n",
            " 0.00| 0.00| 0.00| 1.00|\n",
            "---------------------------\n",
            " 0.00| 0.00| 0.00|-1.00|\n",
            "---------------------------\n",
            " 0.00| 0.00| 0.00| 0.00|\n"
          ],
          "name": "stdout"
        }
      ]
    },
    {
      "cell_type": "code",
      "metadata": {
        "id": "FznE2qLIA3lF",
        "colab_type": "code",
        "colab": {}
      },
      "source": [
        "# state -> action\n",
        "policy = {\n",
        "  (2, 0): 'U',\n",
        "  (1, 0): 'U',\n",
        "  (0, 0): 'R',\n",
        "  (0, 1): 'R',\n",
        "  (0, 2): 'R',\n",
        "  (1, 2): 'R',\n",
        "  (2, 1): 'R',\n",
        "  (2, 2): 'R',\n",
        "  (2, 3): 'U',\n",
        "}\n",
        "policy = {\n",
        "  (2, 0): 'U',\n",
        "  (1, 0): 'U',\n",
        "  (0, 0): 'R',\n",
        "  (0, 1): 'R',\n",
        "  (0, 2): 'R',\n",
        "  (1, 2): 'U',\n",
        "  (2, 1): 'L',\n",
        "  (2, 2): 'U',\n",
        "  (2, 3): 'L',\n",
        "}"
      ],
      "execution_count": 0,
      "outputs": []
    },
    {
      "cell_type": "code",
      "metadata": {
        "id": "UBDyKoQNA7BQ",
        "colab_type": "code",
        "colab": {}
      },
      "source": [
        "# Initialising V and returns\n",
        "V = {}\n",
        "returns = {}  # dictionary of state -> list of returns we've received\n",
        "states = grid.all_states()\n",
        "for s in states:\n",
        "  if s in grid.actions:\n",
        "    returns[s] = []\n",
        "  else:\n",
        "    # terminal state or state we can't otherwise get to\n",
        "    V[s] = 0"
      ],
      "execution_count": 0,
      "outputs": []
    },
    {
      "cell_type": "code",
      "metadata": {
        "id": "7WAGI3-gA8k_",
        "colab_type": "code",
        "colab": {}
      },
      "source": [
        "for t in range(5000):  # 100\n",
        "\n",
        "  # generate an episode using pi\n",
        "  states_and_returns = play_game(grid, policy)\n",
        "  seen_states = set()\n",
        "  for s, G in states_and_returns:\n",
        "    # check if we have already seen s\n",
        "    # called \"first-visit\" MC policy evaluation\n",
        "    if s not in seen_states:\n",
        "      returns[s].append(G)\n",
        "      V[s] = np.mean(returns[s])\n",
        "      seen_states.add(s)"
      ],
      "execution_count": 0,
      "outputs": []
    },
    {
      "cell_type": "code",
      "metadata": {
        "id": "t1KvHF-UBAx6",
        "colab_type": "code",
        "colab": {
          "base_uri": "https://localhost:8080/",
          "height": 255
        },
        "outputId": "b955b4c8-7c93-4be5-8f9b-62467bfa4006"
      },
      "source": [
        "print(\"values:\")\n",
        "print_values(V, grid)\n",
        "print(\"policy:\")\n",
        "print_policy(policy, grid)"
      ],
      "execution_count": 23,
      "outputs": [
        {
          "output_type": "stream",
          "text": [
            "values:\n",
            "---------------------------\n",
            " 0.43| 0.56| 0.73| 0.00|\n",
            "---------------------------\n",
            " 0.33| 0.00| 0.19| 0.00|\n",
            "---------------------------\n",
            " 0.26| 0.18| 0.09|-0.20|\n",
            "policy:\n",
            "---------------------------\n",
            "  R  |  R  |  R  |     |\n",
            "---------------------------\n",
            "  U  |     |  U  |     |\n",
            "---------------------------\n",
            "  U  |  L  |  U  |  L  |\n"
          ],
          "name": "stdout"
        }
      ]
    }
  ]
}