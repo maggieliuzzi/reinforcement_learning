{
  "nbformat": 4,
  "nbformat_minor": 0,
  "metadata": {
    "colab": {
      "name": "Approximation.ipynb",
      "provenance": [],
      "authorship_tag": "ABX9TyPXD6XGfRAjX6u32Y/XMpnp",
      "include_colab_link": true
    },
    "kernelspec": {
      "name": "python3",
      "display_name": "Python 3"
    }
  },
  "cells": [
    {
      "cell_type": "markdown",
      "metadata": {
        "id": "view-in-github",
        "colab_type": "text"
      },
      "source": [
        "<a href=\"https://colab.research.google.com/github/maggieliuzzi/reinforcement_learning/blob/master/monte_carlo/prediction/Approximation.ipynb\" target=\"_parent\"><img src=\"https://colab.research.google.com/assets/colab-badge.svg\" alt=\"Open In Colab\"/></a>"
      ]
    },
    {
      "cell_type": "markdown",
      "metadata": {
        "id": "KX7JnmroTvp1",
        "colab_type": "text"
      },
      "source": [
        "**Monte Carlo** | Prediction Problem | Approximation"
      ]
    },
    {
      "cell_type": "code",
      "metadata": {
        "id": "Rx8mo0WPTHPh",
        "colab_type": "code",
        "colab": {}
      },
      "source": [
        "from __future__ import print_function, division\n",
        "from builtins import range\n",
        "import matplotlib.pyplot as plt\n",
        "import numpy as np\n",
        "!wget \"https://raw.githubusercontent.com/lazyprogrammer/machine_learning_examples/master/rl/grid_world.py\"\n",
        "from grid_world import standard_grid, negative_grid\n",
        "!wget \"https://raw.githubusercontent.com/maggieliuzzi/reinforcement_learning/master/environments/utils.py\"\n",
        "from utils import print_values, print_policy"
      ],
      "execution_count": 0,
      "outputs": []
    },
    {
      "cell_type": "code",
      "metadata": {
        "id": "DYX-I6LhUSOB",
        "colab_type": "code",
        "colab": {}
      },
      "source": [
        "SMALL_ENOUGH = 1e-3\n",
        "GAMMA = 0.9\n",
        "ALL_POSSIBLE_ACTIONS = ('U', 'D', 'L', 'R')\n",
        "LEARNING_RATE = 0.001"
      ],
      "execution_count": 0,
      "outputs": []
    },
    {
      "cell_type": "code",
      "metadata": {
        "id": "b_WBRpcGUISp",
        "colab_type": "code",
        "colab": {}
      },
      "source": [
        "def random_action(a):\n",
        "  # choose given a with probability 0.5\n",
        "  # choose some other a' != a with probability 0.5/3\n",
        "  p = np.random.random()\n",
        "  if p < 0.5:\n",
        "    return a\n",
        "  else:\n",
        "    tmp = list(ALL_POSSIBLE_ACTIONS)\n",
        "    tmp.remove(a)\n",
        "    return np.random.choice(tmp)"
      ],
      "execution_count": 0,
      "outputs": []
    },
    {
      "cell_type": "code",
      "metadata": {
        "id": "jzj8R542UKOx",
        "colab_type": "code",
        "colab": {}
      },
      "source": [
        "def play_game(grid, policy):\n",
        "  # returns a list of states and corresponding returns\n",
        "\n",
        "  # reset game to start at a random position\n",
        "  # we need to do this, because given our current deterministic policy\n",
        "  # we would never end up at certain states, but we still want to measure their value\n",
        "  start_states = list(grid.actions.keys())\n",
        "  start_idx = np.random.choice(len(start_states))\n",
        "  grid.set_state(start_states[start_idx])\n",
        "\n",
        "  s = grid.current_state()\n",
        "  states_and_rewards = [(s, 0)] # list of tuples of (state, reward)\n",
        "  while not grid.game_over():\n",
        "    a = policy[s]\n",
        "    a = random_action(a)\n",
        "    r = grid.move(a)\n",
        "    s = grid.current_state()\n",
        "    states_and_rewards.append((s, r))\n",
        "  # calculate the returns by working backwards from the terminal state\n",
        "  G = 0\n",
        "  states_and_returns = []\n",
        "  first = True\n",
        "  for s, r in reversed(states_and_rewards):\n",
        "    # the value of the terminal state is 0 by definition\n",
        "    # we should ignore the first state we encounter\n",
        "    # and ignore the last G, which is meaningless since it doesn't correspond to any move\n",
        "    if first:\n",
        "      first = False\n",
        "    else:\n",
        "      states_and_returns.append((s, G))\n",
        "    G = r + GAMMA*G\n",
        "  states_and_returns.reverse() # we want it to be in order of state visited\n",
        "  \n",
        "  return states_and_returns"
      ],
      "execution_count": 0,
      "outputs": []
    },
    {
      "cell_type": "code",
      "metadata": {
        "id": "AIm56Of9ULH8",
        "colab_type": "code",
        "colab": {
          "base_uri": "https://localhost:8080/",
          "height": 136
        },
        "outputId": "1044c082-cba7-4a34-c228-f482ef5f065f"
      },
      "source": [
        "grid = standard_grid()\n",
        "\n",
        "print(\"rewards:\")\n",
        "print_values(grid.rewards, grid)"
      ],
      "execution_count": 13,
      "outputs": [
        {
          "output_type": "stream",
          "text": [
            "rewards:\n",
            "---------------------------\n",
            " 0.00| 0.00| 0.00| 1.00|\n",
            "---------------------------\n",
            " 0.00| 0.00| 0.00|-1.00|\n",
            "---------------------------\n",
            " 0.00| 0.00| 0.00| 0.00|\n"
          ],
          "name": "stdout"
        }
      ]
    },
    {
      "cell_type": "code",
      "metadata": {
        "id": "ItnivLLlUciE",
        "colab_type": "code",
        "colab": {}
      },
      "source": [
        "policy = {\n",
        "  (2, 0): 'U',\n",
        "  (1, 0): 'U',\n",
        "  (0, 0): 'R',\n",
        "  (0, 1): 'R',\n",
        "  (0, 2): 'R',\n",
        "  (1, 2): 'U',\n",
        "  (2, 1): 'L',\n",
        "  (2, 2): 'U',\n",
        "  (2, 3): 'L',\n",
        "}"
      ],
      "execution_count": 0,
      "outputs": []
    },
    {
      "cell_type": "code",
      "metadata": {
        "id": "ZAucKgPiUi8g",
        "colab_type": "code",
        "colab": {}
      },
      "source": [
        "# initialize theta\n",
        "# our model is V_hat = theta.dot(x)\n",
        "# where x = [row, col, row*col, 1] - 1 for bias term\n",
        "theta = np.random.randn(4) / 2\n",
        "def s2x(s):\n",
        "  return np.array([s[0] - 1, s[1] - 1.5, s[0]*s[1] - 3, 1])"
      ],
      "execution_count": 0,
      "outputs": []
    },
    {
      "cell_type": "code",
      "metadata": {
        "id": "UonKoDPsUl4F",
        "colab_type": "code",
        "colab": {}
      },
      "source": [
        "# repeat until convergence\n",
        "deltas = []\n",
        "t = 1.0\n",
        "for it in range(20000):\n",
        "  if it % 100 == 0:\n",
        "    t += 0.01\n",
        "  alpha = LEARNING_RATE/t\n",
        "  # generate an episode using pi\n",
        "  biggest_change = 0\n",
        "  states_and_returns = play_game(grid, policy)\n",
        "  seen_states = set()\n",
        "  for s, G in states_and_returns:\n",
        "    # check if we have already seen s\n",
        "    # called \"first-visit\" MC policy evaluation\n",
        "    if s not in seen_states:\n",
        "      old_theta = theta.copy()\n",
        "      x = s2x(s)\n",
        "      V_hat = theta.dot(x)\n",
        "      # grad(V_hat) wrt theta = x\n",
        "      theta += alpha*(G - V_hat)*x\n",
        "      biggest_change = max(biggest_change, np.abs(old_theta - theta).sum())\n",
        "      seen_states.add(s)\n",
        "  deltas.append(biggest_change)"
      ],
      "execution_count": 0,
      "outputs": []
    },
    {
      "cell_type": "code",
      "metadata": {
        "id": "XIpDWGgsUqls",
        "colab_type": "code",
        "colab": {
          "base_uri": "https://localhost:8080/",
          "height": 265
        },
        "outputId": "83f6a407-2625-4d34-eb9e-84cea66bff8d"
      },
      "source": [
        "plt.plot(deltas)\n",
        "plt.show()"
      ],
      "execution_count": 17,
      "outputs": [
        {
          "output_type": "display_data",
          "data": {
            "image/png": "[encoded data removed]",
            "text/plain": [
              "<Figure size 432x288 with 1 Axes>"
            ]
          },
          "metadata": {
            "tags": [],
            "needs_background": "light"
          }
        }
      ]
    },
    {
      "cell_type": "code",
      "metadata": {
        "id": "TEGh9r17UsUN",
        "colab_type": "code",
        "colab": {}
      },
      "source": [
        "# obtain predicted values\n",
        "V = {}\n",
        "states = grid.all_states()\n",
        "for s in states:\n",
        "  if s in grid.actions:\n",
        "    V[s] = theta.dot(s2x(s))\n",
        "  else:\n",
        "    # terminal state or state we can't otherwise get to\n",
        "    V[s] = 0"
      ],
      "execution_count": 0,
      "outputs": []
    },
    {
      "cell_type": "code",
      "metadata": {
        "id": "IpE16Tv1UuJe",
        "colab_type": "code",
        "colab": {
          "base_uri": "https://localhost:8080/",
          "height": 255
        },
        "outputId": "245d84b2-aa92-4f69-d6c2-a7607be5f662"
      },
      "source": [
        "print(\"values:\")\n",
        "print_values(V, grid)\n",
        "print(\"policy:\")\n",
        "print_policy(policy, grid)"
      ],
      "execution_count": 19,
      "outputs": [
        {
          "output_type": "stream",
          "text": [
            "values:\n",
            "---------------------------\n",
            " 0.48| 0.62| 0.76| 0.00|\n",
            "---------------------------\n",
            " 0.41| 0.00| 0.38| 0.00|\n",
            "---------------------------\n",
            " 0.33| 0.17| 0.00|-0.17|\n",
            "policy:\n",
            "---------------------------\n",
            "  R  |  R  |  R  |     |\n",
            "---------------------------\n",
            "  U  |     |  U  |     |\n",
            "---------------------------\n",
            "  U  |  L  |  U  |  L  |\n"
          ],
          "name": "stdout"
        }
      ]
    }
  ]
}