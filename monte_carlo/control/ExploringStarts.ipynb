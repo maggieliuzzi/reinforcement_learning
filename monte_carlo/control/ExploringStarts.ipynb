{
  "nbformat": 4,
  "nbformat_minor": 0,
  "metadata": {
    "colab": {
      "name": "ExploringStarts.ipynb",
      "provenance": [],
      "authorship_tag": "ABX9TyMl26bNFn3WuyGXCaPXJpom",
      "include_colab_link": true
    },
    "kernelspec": {
      "name": "python3",
      "display_name": "Python 3"
    }
  },
  "cells": [
    {
      "cell_type": "markdown",
      "metadata": {
        "id": "view-in-github",
        "colab_type": "text"
      },
      "source": [
        "<a href=\"https://colab.research.google.com/github/maggieliuzzi/reinforcement_learning/blob/master/monte_carlo/control/ExploringStarts.ipynb\" target=\"_parent\"><img src=\"https://colab.research.google.com/assets/colab-badge.svg\" alt=\"Open In Colab\"/></a>"
      ]
    },
    {
      "cell_type": "markdown",
      "metadata": {
        "id": "MJBWwfH0Drxd",
        "colab_type": "text"
      },
      "source": [
        "**Monte Carlo** | Control Problem | Exploring Starts\n",
        "\n",
        "Finding optimal policy"
      ]
    },
    {
      "cell_type": "code",
      "metadata": {
        "id": "ubZXzohWDg_o",
        "colab_type": "code",
        "colab": {}
      },
      "source": [
        "from __future__ import print_function, division\n",
        "from builtins import range\n",
        "import matplotlib.pyplot as plt\n",
        "import numpy as np\n",
        "!wget \"https://raw.githubusercontent.com/lazyprogrammer/machine_learning_examples/master/rl/grid_world.py\"\n",
        "from grid_world import standard_grid, negative_grid\n",
        "!wget \"https://raw.githubusercontent.com/maggieliuzzi/reinforcement_learning/master/environments/utils.py\"\n",
        "from utils import print_values, print_policy"
      ],
      "execution_count": 0,
      "outputs": []
    },
    {
      "cell_type": "code",
      "metadata": {
        "id": "BpN_p51oD-XP",
        "colab_type": "code",
        "colab": {}
      },
      "source": [
        "GAMMA = 0.9\n",
        "ALL_POSSIBLE_ACTIONS = ('U', 'D', 'L', 'R')"
      ],
      "execution_count": 0,
      "outputs": []
    },
    {
      "cell_type": "code",
      "metadata": {
        "id": "EDbC1D1RD_3P",
        "colab_type": "code",
        "colab": {}
      },
      "source": [
        "def play_game(grid, policy):\n",
        "  # returns a list of states and corresponding returns\n",
        "\n",
        "  # reset game to start at a random position\n",
        "  # we need to do this if we have a deterministic policy\n",
        "  # we would never end up at certain states, but we still want to measure their value\n",
        "  # this is called the \"exploring starts\" method\n",
        "  start_states = list(grid.actions.keys())\n",
        "  start_idx = np.random.choice(len(start_states))\n",
        "  grid.set_state(start_states[start_idx])\n",
        "\n",
        "  s = grid.current_state()\n",
        "  a = np.random.choice(ALL_POSSIBLE_ACTIONS) # first action is uniformly random\n",
        "\n",
        "  # be aware of the timing\n",
        "  # each triple is s(t), a(t), r(t)\n",
        "  # but r(t) results from taking action a(t-1) from s(t-1) and landing in s(t)\n",
        "  states_actions_rewards = [(s, a, 0)]\n",
        "  seen_states = set()\n",
        "  seen_states.add(grid.current_state())\n",
        "  num_steps = 0\n",
        "  while True:\n",
        "    r = grid.move(a)\n",
        "    num_steps += 1\n",
        "    s = grid.current_state()\n",
        "\n",
        "    if s in seen_states:\n",
        "      # hack so that we don't end up in an infinitely long episode\n",
        "      # bumping into the wall repeatedly\n",
        "      # if num_steps == 1 -> bumped into a wall and haven't moved anywhere\n",
        "      #   reward = -10\n",
        "      # else:\n",
        "      #   reward = falls off by 1 / num_steps\n",
        "      reward = -10. / num_steps\n",
        "      states_actions_rewards.append((s, None, reward))\n",
        "      break\n",
        "    elif grid.game_over():\n",
        "      states_actions_rewards.append((s, None, r))\n",
        "      break\n",
        "    else:\n",
        "      a = policy[s]\n",
        "      states_actions_rewards.append((s, a, r))\n",
        "    seen_states.add(s)\n",
        "\n",
        "  # calculate the returns by working backwards from the terminal state\n",
        "  G = 0\n",
        "  states_actions_returns = []\n",
        "  first = True\n",
        "  for s, a, r in reversed(states_actions_rewards):\n",
        "    # the value of the terminal state is 0 by definition\n",
        "    # we should ignore the first state we encounter\n",
        "    # and ignore the last G, which is meaningless since it doesn't correspond to any move\n",
        "    if first:\n",
        "      first = False\n",
        "    else:\n",
        "      states_actions_returns.append((s, a, G))\n",
        "    G = r + GAMMA*G\n",
        "  states_actions_returns.reverse() # we want it to be in order of state visited\n",
        "  return states_actions_returns"
      ],
      "execution_count": 0,
      "outputs": []
    },
    {
      "cell_type": "code",
      "metadata": {
        "id": "fg4RXfN0EXR-",
        "colab_type": "code",
        "colab": {}
      },
      "source": [
        "def max_dict(d):\n",
        "  # returns the argmax (key) and max (value) from a dictionary\n",
        "  max_key = None\n",
        "  max_val = float('-inf')\n",
        "  for k, v in d.items():\n",
        "    if v > max_val:\n",
        "      max_val = v\n",
        "      max_key = k\n",
        "  return max_key, max_val"
      ],
      "execution_count": 0,
      "outputs": []
    },
    {
      "cell_type": "code",
      "metadata": {
        "id": "ETXrb_AYEZb5",
        "colab_type": "code",
        "colab": {
          "base_uri": "https://localhost:8080/",
          "height": 136
        },
        "outputId": "0df8b305-2566-4257-adbe-04dc4b1252a8"
      },
      "source": [
        "grid = negative_grid(step_cost=-0.9)\n",
        "\n",
        "# print rewards\n",
        "print(\"rewards:\")\n",
        "print_values(grid.rewards, grid)"
      ],
      "execution_count": 4,
      "outputs": [
        {
          "output_type": "stream",
          "text": [
            "rewards:\n",
            "---------------------------\n",
            "-0.90|-0.90|-0.90| 1.00|\n",
            "---------------------------\n",
            "-0.90| 0.00|-0.90|-1.00|\n",
            "---------------------------\n",
            "-0.90|-0.90|-0.90|-0.90|\n"
          ],
          "name": "stdout"
        }
      ]
    },
    {
      "cell_type": "code",
      "metadata": {
        "id": "cSCQ7wyGEnGz",
        "colab_type": "code",
        "colab": {}
      },
      "source": [
        "# state -> action\n",
        "# initialize a random policy\n",
        "policy = {}\n",
        "for s in grid.actions.keys():\n",
        "  policy[s] = np.random.choice(ALL_POSSIBLE_ACTIONS)\n",
        "\n",
        "# initialize Q(s,a) and returns\n",
        "Q = {}\n",
        "returns = {} # dictionary of state -> list of returns we've received\n",
        "states = grid.all_states()\n",
        "for s in states:\n",
        "  if s in grid.actions: # not a terminal state\n",
        "    Q[s] = {}\n",
        "    for a in ALL_POSSIBLE_ACTIONS:\n",
        "      Q[s][a] = 0 # needs to be initialized to something so we can argmax it\n",
        "      returns[(s,a)] = []\n",
        "  else:\n",
        "    # terminal state or state we can't otherwise get to\n",
        "    pass"
      ],
      "execution_count": 0,
      "outputs": []
    },
    {
      "cell_type": "code",
      "metadata": {
        "id": "uxmHBTQREtWa",
        "colab_type": "code",
        "colab": {}
      },
      "source": [
        "# repeat until convergence\n",
        "deltas = []\n",
        "for t in range(2000):\n",
        "  # if t % 100 == 0:\n",
        "    # print(t)\n",
        "\n",
        "  # generate an episode using pi\n",
        "  biggest_change = 0\n",
        "  states_actions_returns = play_game(grid, policy)\n",
        "  seen_state_action_pairs = set()\n",
        "  for s, a, G in states_actions_returns:\n",
        "    # check if we have already seen s\n",
        "    # called \"first-visit\" MC policy evaluation\n",
        "    sa = (s, a)\n",
        "    if sa not in seen_state_action_pairs:\n",
        "      old_q = Q[s][a]\n",
        "      returns[sa].append(G)\n",
        "      Q[s][a] = np.mean(returns[sa])\n",
        "      biggest_change = max(biggest_change, np.abs(old_q - Q[s][a]))\n",
        "      seen_state_action_pairs.add(sa)\n",
        "  deltas.append(biggest_change)\n",
        "\n",
        "  # update policy\n",
        "  for s in policy.keys():\n",
        "    policy[s] = max_dict(Q[s])[0]"
      ],
      "execution_count": 0,
      "outputs": []
    },
    {
      "cell_type": "code",
      "metadata": {
        "id": "OBHVwg8yEzgL",
        "colab_type": "code",
        "colab": {
          "base_uri": "https://localhost:8080/",
          "height": 265
        },
        "outputId": "d92e2fd1-d4cc-4889-a8aa-df6e44654fd4"
      },
      "source": [
        "plt.plot(deltas)\n",
        "plt.show()"
      ],
      "execution_count": 9,
      "outputs": [
        {
          "output_type": "display_data",
          "data": {
            "image/png": "[encoded data removed]",
            "text/plain": [
              "<Figure size 432x288 with 1 Axes>"
            ]
          },
          "metadata": {
            "tags": [],
            "needs_background": "light"
          }
        }
      ]
    },
    {
      "cell_type": "code",
      "metadata": {
        "id": "4mlaUAuLE8y_",
        "colab_type": "code",
        "colab": {
          "base_uri": "https://localhost:8080/",
          "height": 136
        },
        "outputId": "e000d990-befe-4352-b83f-8a0a5cbdcfa7"
      },
      "source": [
        "print(\"final policy:\")\n",
        "print_policy(policy, grid)"
      ],
      "execution_count": 10,
      "outputs": [
        {
          "output_type": "stream",
          "text": [
            "final policy:\n",
            "---------------------------\n",
            "  R  |  R  |  R  |     |\n",
            "---------------------------\n",
            "  U  |     |  U  |     |\n",
            "---------------------------\n",
            "  U  |  R  |  U  |  U  |\n"
          ],
          "name": "stdout"
        }
      ]
    },
    {
      "cell_type": "code",
      "metadata": {
        "id": "J1K1k4VKFAUk",
        "colab_type": "code",
        "colab": {
          "base_uri": "https://localhost:8080/",
          "height": 136
        },
        "outputId": "6ca54e11-1f47-48d5-a95f-e5792bcd5133"
      },
      "source": [
        "# find V\n",
        "V = {}\n",
        "for s, Qs in Q.items():\n",
        "  V[s] = max_dict(Q[s])[1]\n",
        "\n",
        "print(\"final values:\")\n",
        "print_values(V, grid)"
      ],
      "execution_count": 11,
      "outputs": [
        {
          "output_type": "stream",
          "text": [
            "final values:\n",
            "---------------------------\n",
            "-1.69|-0.86| 1.00| 0.00|\n",
            "---------------------------\n",
            "-2.61| 0.00|-0.78| 0.00|\n",
            "---------------------------\n",
            "-3.22|-2.98|-1.80|-1.00|\n"
          ],
          "name": "stdout"
        }
      ]
    }
  ]
}