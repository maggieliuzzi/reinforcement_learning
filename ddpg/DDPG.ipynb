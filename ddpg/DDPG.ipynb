{
 "cells": [
  {
   "cell_type": "markdown",
   "metadata": {},
   "source": [
    "# DDPG (Deep Deterministic Policy Gradient)"
   ]
  },
  {
   "cell_type": "markdown",
   "metadata": {},
   "source": [
    "### Architecture\n",
    "    4 Networks:\n",
    "        Actors:\n",
    "            Policy (Deterministic)    mu(s|params)\n",
    "            Target Policy             mu'\n",
    "        Critics:\n",
    "            Value                     Q(s,a|params)\n",
    "            Target Value              Q'\n",
    "\n",
    "    Target networks:\n",
    "        Time-delayed copies, better learning stability\n",
    "        Slowly track original networks with soft updates (using orig and target in different proportions)\n",
    "\n",
    "    Actor:\n",
    "        Outputs an action (instead of a probability distribution of discrete actions)\n",
    "        Maximising expected return\n",
    "        Policy loss involves taking derivatives\n",
    "            Policy is updated off-policy, with batches of experience\n",
    "        \n",
    "    Critic:\n",
    "        Value network updated using the Bellman equation\n",
    "        Next-state Q values calculating using Q' and mu'\n",
    "        Minimise mean-squared loss between updated Q value and original Q value\n",
    "            (Original Q value calculated using the mu, not mu')\n",
    "    \n",
    "    Draws concepts from, DQN Actor-Critic and Policy Gradients:\n",
    "        Replay Buffer (to learn from independently distributed data):\n",
    "            Like DQN, etc\n",
    "        Updating the value network using the Bellman equation\n",
    "        \n",
    "    Noise:\n",
    "        Since continuous actions, noise is added to the chosen action itself (as opposed to sometimes choosing a random one)\n",
    "        Ornstein-Uhlenbeck Process (temporally correlated noise; i.e. noise correlated with previous noise)"
   ]
  },
  {
   "cell_type": "markdown",
   "metadata": {},
   "source": [
    "### Algorithm\n",
    "    Loop through episodes\n",
    "        Loop through ??\n",
    "            Select action (based on current policy network and random exploration noise)  # for continuous actions\n",
    "            Store transition in replay buffer\n",
    "            Get minibatch by sampling randomly from the experience replay buffer\n",
    "            Set ??\n",
    "            Update critic (by minimising loss)\n",
    "            Update actor (using sampled policy gradient) (by minimising loss)\n",
    "            Update target Q'\n",
    "            Update target mu'\n",
    "    "
   ]
  },
  {
   "cell_type": "code",
   "execution_count": null,
   "metadata": {},
   "outputs": [],
   "source": []
  },
  {
   "cell_type": "code",
   "execution_count": null,
   "metadata": {},
   "outputs": [],
   "source": []
  }
 ],
 "metadata": {
  "kernelspec": {
   "display_name": "Python 3",
   "language": "python",
   "name": "python3"
  },
  "language_info": {
   "codemirror_mode": {
    "name": "ipython",
    "version": 3
   },
   "file_extension": ".py",
   "mimetype": "text/x-python",
   "name": "python",
   "nbconvert_exporter": "python",
   "pygments_lexer": "ipython3",
   "version": "3.7.6"
  }
 },
 "nbformat": 4,
 "nbformat_minor": 4
}
