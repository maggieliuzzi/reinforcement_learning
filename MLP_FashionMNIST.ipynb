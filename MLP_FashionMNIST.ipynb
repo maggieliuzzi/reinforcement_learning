{
  "nbformat": 4,
  "nbformat_minor": 0,
  "metadata": {
    "colab": {
      "name": "TensorFlow2-Keras.ipynb",
      "provenance": [],
      "authorship_tag": "ABX9TyNflPxa4cUbrAt+uLDG1biW",
      "include_colab_link": true
    },
    "kernelspec": {
      "name": "python3",
      "display_name": "Python 3"
    }
  },
  "cells": [
    {
      "cell_type": "markdown",
      "metadata": {
        "id": "view-in-github",
        "colab_type": "text"
      },
      "source": [
        "<a href=\"https://colab.research.google.com/github/maggieliuzzi/reinforcement_learning/blob/master/MLP_FashionMNIST.ipynb\" target=\"_parent\"><img src=\"https://colab.research.google.com/assets/colab-badge.svg\" alt=\"Open In Colab\"/></a>"
      ]
    },
    {
      "cell_type": "markdown",
      "metadata": {
        "id": "LnNQMfT3_g7X",
        "colab_type": "text"
      },
      "source": [
        "# **TensorFlow2 - tf.Keras**"
      ]
    },
    {
      "cell_type": "code",
      "metadata": {
        "id": "86-G5M6p_a3k",
        "colab_type": "code",
        "colab": {
          "base_uri": "https://localhost:8080/",
          "height": 34
        },
        "outputId": "d4cc48ec-0665-4afd-8596-e67d1e818ae9"
      },
      "source": [
        "import tensorflow as tf\n",
        "from tensorflow import keras  # tf.keras implements the Keras API plus some extra TensorFlow-specific features\n",
        "tf.__version__, keras.__version__"
      ],
      "execution_count": 32,
      "outputs": [
        {
          "output_type": "execute_result",
          "data": {
            "text/plain": [
              "('2.2.0', '2.3.0-tf')"
            ]
          },
          "metadata": {
            "tags": []
          },
          "execution_count": 32
        }
      ]
    },
    {
      "cell_type": "markdown",
      "metadata": {
        "id": "bYbGiM_ZLnIc",
        "colab_type": "text"
      },
      "source": [
        "## **Loading Dataset (Fashion MNIST)**"
      ]
    },
    {
      "cell_type": "code",
      "metadata": {
        "id": "U7XbCGypAPzl",
        "colab_type": "code",
        "colab": {}
      },
      "source": [
        "''' When loading MNIST or Fashion MNIST using Keras rather than Scikit-Learn, \n",
        "one important difference is that every image is represented as a 28×28 array \n",
        "rather than a 1D array of size 784. Moreover, the pixel intensities are \n",
        "represented as integers (from 0 to 255) rather than floats (from 0.0 to 255.0)\n",
        "'''\n",
        "fashion_mnist = keras.datasets.fashion_mnist\n",
        "(X_train_full, y_train_full), (X_test, y_test) = fashion_mnist.load_data()"
      ],
      "execution_count": 0,
      "outputs": []
    },
    {
      "cell_type": "code",
      "metadata": {
        "id": "alV2G4NFAkL3",
        "colab_type": "code",
        "colab": {
          "base_uri": "https://localhost:8080/",
          "height": 1000
        },
        "outputId": "e7d11ea8-2097-45af-c073-8713d68ab8b7"
      },
      "source": [
        "print(X_train_full.shape, X_train_full.dtype)\n",
        "print(y_train_full.shape, y_train_full.dtype)\n",
        "print(X_test.shape, X_test.dtype)\n",
        "print(y_test.shape, y_test.dtype)\n",
        "print(X_test[0])"
      ],
      "execution_count": 34,
      "outputs": [
        {
          "output_type": "stream",
          "text": [
            "(60000, 28, 28) uint8\n",
            "(60000,) uint8\n",
            "(10000, 28, 28) uint8\n",
            "(10000,) uint8\n",
            "[[  0   0   0   0   0   0   0   0   0   0   0   0   0   0   0   0   0   0\n",
            "    0   0   0   0   0   0   0   0   0   0]\n",
            " [  0   0   0   0   0   0   0   0   0   0   0   0   0   0   0   0   0   0\n",
            "    0   0   0   0   0   0   0   0   0   0]\n",
            " [  0   0   0   0   0   0   0   0   0   0   0   0   0   0   0   0   0   0\n",
            "    0   0   0   0   0   0   0   0   0   0]\n",
            " [  0   0   0   0   0   0   0   0   0   0   0   0   0   0   0   0   0   0\n",
            "    0   0   0   0   0   0   0   0   0   0]\n",
            " [  0   0   0   0   0   0   0   0   0   0   0   0   0   0   0   0   0   0\n",
            "    0   0   0   0   0   0   0   0   0   0]\n",
            " [  0   0   0   0   0   0   0   0   0   0   0   0   0   0   0   0   0   0\n",
            "    0   0   0   0   0   0   0   0   0   0]\n",
            " [  0   0   0   0   0   0   0   0   0   0   0   0   0   0   0   0   0   0\n",
            "    0   0   0   0   0   0   0   0   0   0]\n",
            " [  0   0   0   0   0   0   0   0   0   0   0   0   0   0   0   0   0   0\n",
            "    0   3   1   0   0   7   0  37   0   0]\n",
            " [  0   0   0   0   0   0   0   0   0   0   0   0   0   1   2   0  27  84\n",
            "   11   0   0   0   0   0   0 119   0   0]\n",
            " [  0   0   0   0   0   0   0   0   0   0   0   0   0   1   0   0  88 143\n",
            "  110   0   0   0   0  22  93 106   0   0]\n",
            " [  0   0   0   0   0   0   0   0   0   0   0   0   0   4   0  53 129 120\n",
            "  147 175 157 166 135 154 168 140   0   0]\n",
            " [  0   0   0   0   0   0   0   0   0   0   0   0   2   0  11 137 130 128\n",
            "  160 176 159 167 178 149 151 144   0   0]\n",
            " [  0   0   0   0   0   0   1   0   2   1   0   3   0   0 115 114 106 137\n",
            "  168 153 156 165 167 143 157 158  11   0]\n",
            " [  0   0   0   0   1   0   0   0   0   0   3   0   0  89 139  90  94 153\n",
            "  149 131 151 169 172 143 159 169  48   0]\n",
            " [  0   0   0   0   0   0   2   4   1   0   0   0  98 136 110 109 110 162\n",
            "  135 144 149 159 167 144 158 169 119   0]\n",
            " [  0   0   2   2   1   2   0   0   0   0  26 108 117  99 111 117 136 156\n",
            "  134 154 154 156 160 141 147 156 178   0]\n",
            " [  3   0   0   0   0   0   0  21  53  92 117 111 103 115 129 134 143 154\n",
            "  165 170 154 151 154 143 138 150 165  43]\n",
            " [  0   0  23  54  65  76  85 118 128 123 111 113 118 127 125 139 133 136\n",
            "  160 140 155 161 144 155 172 161 189  62]\n",
            " [  0  68  94  90 111 114 111 114 115 127 135 136 143 126 127 151 154 143\n",
            "  148 125 162 162 144 138 153 162 196  58]\n",
            " [ 70 169 129 104  98 100  94  97  98 102 108 106 119 120 129 149 156 167\n",
            "  190 190 196 198 198 187 197 189 184  36]\n",
            " [ 16 126 171 188 188 184 171 153 135 120 126 127 146 185 195 209 208 255\n",
            "  209 177 245 252 251 251 247 220 206  49]\n",
            " [  0   0   0  12  67 106 164 185 199 210 211 210 208 190 150  82   8   0\n",
            "    0   0 178 208 188 175 162 158 151  11]\n",
            " [  0   0   0   0   0   0   0   0   0   0   0   0   0   0   0   0   0   0\n",
            "    0   0   0   0   0   0   0   0   0   0]\n",
            " [  0   0   0   0   0   0   0   0   0   0   0   0   0   0   0   0   0   0\n",
            "    0   0   0   0   0   0   0   0   0   0]\n",
            " [  0   0   0   0   0   0   0   0   0   0   0   0   0   0   0   0   0   0\n",
            "    0   0   0   0   0   0   0   0   0   0]\n",
            " [  0   0   0   0   0   0   0   0   0   0   0   0   0   0   0   0   0   0\n",
            "    0   0   0   0   0   0   0   0   0   0]\n",
            " [  0   0   0   0   0   0   0   0   0   0   0   0   0   0   0   0   0   0\n",
            "    0   0   0   0   0   0   0   0   0   0]\n",
            " [  0   0   0   0   0   0   0   0   0   0   0   0   0   0   0   0   0   0\n",
            "    0   0   0   0   0   0   0   0   0   0]]\n"
          ],
          "name": "stdout"
        }
      ]
    },
    {
      "cell_type": "markdown",
      "metadata": {
        "id": "kjuphTXPLxPw",
        "colab_type": "text"
      },
      "source": [
        "## **Preprocessing Data**\n",
        "> Scaling pixel intensities"
      ]
    },
    {
      "cell_type": "code",
      "metadata": {
        "id": "KpUSq1YECLkC",
        "colab_type": "code",
        "colab": {}
      },
      "source": [
        "# scale the pixel intensities down to the 0-1 range by dividing them by 255.0 (this also converts them to floats)\n",
        "X_valid, X_train = X_train_full[:5000] / 255.0, X_train_full[5000:] / 255.0\n",
        "y_valid, y_train = y_train_full[:5000], y_train_full[5000:]"
      ],
      "execution_count": 0,
      "outputs": []
    },
    {
      "cell_type": "code",
      "metadata": {
        "id": "k5r1AQZ8ClTa",
        "colab_type": "code",
        "colab": {
          "base_uri": "https://localhost:8080/",
          "height": 34
        },
        "outputId": "3a8c0f0d-74c7-4daa-a57f-d25a05203b7a"
      },
      "source": [
        "class_names = [\"T-shirt/top\", \"Trouser\", \"Pullover\", \"Dress\", \"Coat\",\n",
        "                   \"Sandal\", \"Shirt\", \"Sneaker\", \"Bag\", \"Ankle boot\"]\n",
        "\n",
        "class_names[y_train[0]]"
      ],
      "execution_count": 36,
      "outputs": [
        {
          "output_type": "execute_result",
          "data": {
            "text/plain": [
              "'Coat'"
            ]
          },
          "metadata": {
            "tags": []
          },
          "execution_count": 36
        }
      ]
    },
    {
      "cell_type": "markdown",
      "metadata": {
        "id": "EzycoH_RC2q5",
        "colab_type": "text"
      },
      "source": [
        "## **Constructing Model (Classification MLP/ Multi-Layer Perceptron)**"
      ]
    },
    {
      "cell_type": "code",
      "metadata": {
        "id": "oZJb86elC1d9",
        "colab_type": "code",
        "colab": {}
      },
      "source": [
        "model = keras.models.Sequential()\n",
        "# or keras.layers.InputLayer as the first layer, setting shape=[28,28]\n",
        "model.add(keras.layers.Flatten(input_shape=[28, 28]))  # converts each input image into a 1D array, X.reshape(-1,1)\n",
        "model.add(keras.layers.Dense(300, activation=\"relu\"))  # activation=keras.activations.relu\n",
        "model.add(keras.layers.Dense(100, activation=\"relu\"))\n",
        "model.add(keras.layers.Dense(10, activation=\"softmax\"))  # output layer  # one neuron per class (exclusive classes)\n",
        "\n",
        "'''\n",
        "model = keras.models.Sequential([\n",
        "        keras.layers.Flatten(input_shape=[28, 28]),\n",
        "        keras.layers.Dense(300, activation=\"relu\"),\n",
        "        keras.layers.Dense(100, activation=\"relu\"),\n",
        "        keras.layers.Dense(10, activation=\"softmax\")\n",
        "]) ''';\n",
        "\n",
        "# For a non-default initialisation method, can set kernel_initializer (kernel is another \n",
        "# name for the matrix of connection weights) or bias_initializer when creating the layer"
      ],
      "execution_count": 0,
      "outputs": []
    },
    {
      "cell_type": "code",
      "metadata": {
        "id": "lSbltPskErSU",
        "colab_type": "code",
        "colab": {
          "base_uri": "https://localhost:8080/",
          "height": 289
        },
        "outputId": "82fee5e2-2516-477c-f634-3ae5f47a98e0"
      },
      "source": [
        "model.summary()  \n",
        "# (None means the batch size can be anything)"
      ],
      "execution_count": 38,
      "outputs": [
        {
          "output_type": "stream",
          "text": [
            "Model: \"sequential_3\"\n",
            "_________________________________________________________________\n",
            "Layer (type)                 Output Shape              Param #   \n",
            "=================================================================\n",
            "flatten_3 (Flatten)          (None, 784)               0         \n",
            "_________________________________________________________________\n",
            "dense_9 (Dense)              (None, 300)               235500    \n",
            "_________________________________________________________________\n",
            "dense_10 (Dense)             (None, 100)               30100     \n",
            "_________________________________________________________________\n",
            "dense_11 (Dense)             (None, 10)                1010      \n",
            "=================================================================\n",
            "Total params: 266,610\n",
            "Trainable params: 266,610\n",
            "Non-trainable params: 0\n",
            "_________________________________________________________________\n"
          ],
          "name": "stdout"
        }
      ]
    },
    {
      "cell_type": "code",
      "metadata": {
        "id": "povRiLdTFuV8",
        "colab_type": "code",
        "colab": {
          "base_uri": "https://localhost:8080/",
          "height": 85
        },
        "outputId": "3d51dc10-3b95-4474-dd2d-6d81acafac2d"
      },
      "source": [
        "model.layers"
      ],
      "execution_count": 39,
      "outputs": [
        {
          "output_type": "execute_result",
          "data": {
            "text/plain": [
              "[<tensorflow.python.keras.layers.core.Flatten at 0x7f5a9635f5f8>,\n",
              " <tensorflow.python.keras.layers.core.Dense at 0x7f5a9635f9b0>,\n",
              " <tensorflow.python.keras.layers.core.Dense at 0x7f5a9635f978>,\n",
              " <tensorflow.python.keras.layers.core.Dense at 0x7f5a96363908>]"
            ]
          },
          "metadata": {
            "tags": []
          },
          "execution_count": 39
        }
      ]
    },
    {
      "cell_type": "code",
      "metadata": {
        "id": "3J6EHaUzFyJ6",
        "colab_type": "code",
        "colab": {
          "base_uri": "https://localhost:8080/",
          "height": 34
        },
        "outputId": "20ff06cc-e115-4f98-d430-4d767b963586"
      },
      "source": [
        "model.layers[1].name, model.get_layer('dense_9').name"
      ],
      "execution_count": 41,
      "outputs": [
        {
          "output_type": "execute_result",
          "data": {
            "text/plain": [
              "('dense_9', 'dense_9')"
            ]
          },
          "metadata": {
            "tags": []
          },
          "execution_count": 41
        }
      ]
    },
    {
      "cell_type": "code",
      "metadata": {
        "id": "wPp4uzb8GPs_",
        "colab_type": "code",
        "colab": {
          "base_uri": "https://localhost:8080/",
          "height": 544
        },
        "outputId": "c2bd7c44-12a2-4d63-c9f8-e64297df380f"
      },
      "source": [
        "model.get_layer('dense_9').get_weights()  # For Dense layers: connection weights and the bias terms\n",
        "# model.get_layer('dense_9').set_weights()"
      ],
      "execution_count": 45,
      "outputs": [
        {
          "output_type": "execute_result",
          "data": {
            "text/plain": [
              "[array([[-0.04753353, -0.0654764 , -0.01731009, ..., -0.05350191,\n",
              "          0.02187178, -0.03869944],\n",
              "        [-0.01725776,  0.0270275 , -0.06347821, ...,  0.03505491,\n",
              "          0.05521537, -0.03213964],\n",
              "        [-0.044381  , -0.06219188,  0.03400196, ..., -0.02033301,\n",
              "          0.05526911,  0.07324813],\n",
              "        ...,\n",
              "        [-0.05890452,  0.01465198,  0.05489603, ..., -0.01769911,\n",
              "         -0.02730787, -0.06942713],\n",
              "        [-0.02435769,  0.05153173, -0.03233034, ...,  0.01169031,\n",
              "          0.07311046, -0.05020538],\n",
              "        [-0.04423298,  0.03725109,  0.0739962 , ..., -0.03832904,\n",
              "          0.03750382, -0.03568053]], dtype=float32),\n",
              " array([0., 0., 0., 0., 0., 0., 0., 0., 0., 0., 0., 0., 0., 0., 0., 0., 0.,\n",
              "        0., 0., 0., 0., 0., 0., 0., 0., 0., 0., 0., 0., 0., 0., 0., 0., 0.,\n",
              "        0., 0., 0., 0., 0., 0., 0., 0., 0., 0., 0., 0., 0., 0., 0., 0., 0.,\n",
              "        0., 0., 0., 0., 0., 0., 0., 0., 0., 0., 0., 0., 0., 0., 0., 0., 0.,\n",
              "        0., 0., 0., 0., 0., 0., 0., 0., 0., 0., 0., 0., 0., 0., 0., 0., 0.,\n",
              "        0., 0., 0., 0., 0., 0., 0., 0., 0., 0., 0., 0., 0., 0., 0., 0., 0.,\n",
              "        0., 0., 0., 0., 0., 0., 0., 0., 0., 0., 0., 0., 0., 0., 0., 0., 0.,\n",
              "        0., 0., 0., 0., 0., 0., 0., 0., 0., 0., 0., 0., 0., 0., 0., 0., 0.,\n",
              "        0., 0., 0., 0., 0., 0., 0., 0., 0., 0., 0., 0., 0., 0., 0., 0., 0.,\n",
              "        0., 0., 0., 0., 0., 0., 0., 0., 0., 0., 0., 0., 0., 0., 0., 0., 0.,\n",
              "        0., 0., 0., 0., 0., 0., 0., 0., 0., 0., 0., 0., 0., 0., 0., 0., 0.,\n",
              "        0., 0., 0., 0., 0., 0., 0., 0., 0., 0., 0., 0., 0., 0., 0., 0., 0.,\n",
              "        0., 0., 0., 0., 0., 0., 0., 0., 0., 0., 0., 0., 0., 0., 0., 0., 0.,\n",
              "        0., 0., 0., 0., 0., 0., 0., 0., 0., 0., 0., 0., 0., 0., 0., 0., 0.,\n",
              "        0., 0., 0., 0., 0., 0., 0., 0., 0., 0., 0., 0., 0., 0., 0., 0., 0.,\n",
              "        0., 0., 0., 0., 0., 0., 0., 0., 0., 0., 0., 0., 0., 0., 0., 0., 0.,\n",
              "        0., 0., 0., 0., 0., 0., 0., 0., 0., 0., 0., 0., 0., 0., 0., 0., 0.,\n",
              "        0., 0., 0., 0., 0., 0., 0., 0., 0., 0., 0.], dtype=float32)]"
            ]
          },
          "metadata": {
            "tags": []
          },
          "execution_count": 45
        }
      ]
    },
    {
      "cell_type": "code",
      "metadata": {
        "id": "yQjQlvmcGk4k",
        "colab_type": "code",
        "colab": {
          "base_uri": "https://localhost:8080/",
          "height": 466
        },
        "outputId": "4369a284-b134-479c-dd3f-cb77bc678d01"
      },
      "source": [
        "keras.utils.plot_model(model)"
      ],
      "execution_count": 48,
      "outputs": [
        {
          "output_type": "execute_result",
          "data": {
            "image/png": "[encoded data removed]",
            "text/plain": [
              "<IPython.core.display.Image object>"
            ]
          },
          "metadata": {
            "tags": []
          },
          "execution_count": 48
        }
      ]
    },
    {
      "cell_type": "code",
      "metadata": {
        "id": "1idRx_Q-G1Sa",
        "colab_type": "code",
        "colab": {
          "base_uri": "https://localhost:8080/",
          "height": 578
        },
        "outputId": "47faa1b6-2809-44ff-dedd-1a0ef33bdfa5"
      },
      "source": [
        "hidden1 = model.get_layer('dense_9')\n",
        "weights, biases = hidden1.get_weights()\n",
        "weights, weights.shape, biases, biases.shape  # the shape of the weight matrix depends on the number of inputs"
      ],
      "execution_count": 50,
      "outputs": [
        {
          "output_type": "execute_result",
          "data": {
            "text/plain": [
              "(array([[-0.04753353, -0.0654764 , -0.01731009, ..., -0.05350191,\n",
              "          0.02187178, -0.03869944],\n",
              "        [-0.01725776,  0.0270275 , -0.06347821, ...,  0.03505491,\n",
              "          0.05521537, -0.03213964],\n",
              "        [-0.044381  , -0.06219188,  0.03400196, ..., -0.02033301,\n",
              "          0.05526911,  0.07324813],\n",
              "        ...,\n",
              "        [-0.05890452,  0.01465198,  0.05489603, ..., -0.01769911,\n",
              "         -0.02730787, -0.06942713],\n",
              "        [-0.02435769,  0.05153173, -0.03233034, ...,  0.01169031,\n",
              "          0.07311046, -0.05020538],\n",
              "        [-0.04423298,  0.03725109,  0.0739962 , ..., -0.03832904,\n",
              "          0.03750382, -0.03568053]], dtype=float32),\n",
              " (784, 300),\n",
              " array([0., 0., 0., 0., 0., 0., 0., 0., 0., 0., 0., 0., 0., 0., 0., 0., 0.,\n",
              "        0., 0., 0., 0., 0., 0., 0., 0., 0., 0., 0., 0., 0., 0., 0., 0., 0.,\n",
              "        0., 0., 0., 0., 0., 0., 0., 0., 0., 0., 0., 0., 0., 0., 0., 0., 0.,\n",
              "        0., 0., 0., 0., 0., 0., 0., 0., 0., 0., 0., 0., 0., 0., 0., 0., 0.,\n",
              "        0., 0., 0., 0., 0., 0., 0., 0., 0., 0., 0., 0., 0., 0., 0., 0., 0.,\n",
              "        0., 0., 0., 0., 0., 0., 0., 0., 0., 0., 0., 0., 0., 0., 0., 0., 0.,\n",
              "        0., 0., 0., 0., 0., 0., 0., 0., 0., 0., 0., 0., 0., 0., 0., 0., 0.,\n",
              "        0., 0., 0., 0., 0., 0., 0., 0., 0., 0., 0., 0., 0., 0., 0., 0., 0.,\n",
              "        0., 0., 0., 0., 0., 0., 0., 0., 0., 0., 0., 0., 0., 0., 0., 0., 0.,\n",
              "        0., 0., 0., 0., 0., 0., 0., 0., 0., 0., 0., 0., 0., 0., 0., 0., 0.,\n",
              "        0., 0., 0., 0., 0., 0., 0., 0., 0., 0., 0., 0., 0., 0., 0., 0., 0.,\n",
              "        0., 0., 0., 0., 0., 0., 0., 0., 0., 0., 0., 0., 0., 0., 0., 0., 0.,\n",
              "        0., 0., 0., 0., 0., 0., 0., 0., 0., 0., 0., 0., 0., 0., 0., 0., 0.,\n",
              "        0., 0., 0., 0., 0., 0., 0., 0., 0., 0., 0., 0., 0., 0., 0., 0., 0.,\n",
              "        0., 0., 0., 0., 0., 0., 0., 0., 0., 0., 0., 0., 0., 0., 0., 0., 0.,\n",
              "        0., 0., 0., 0., 0., 0., 0., 0., 0., 0., 0., 0., 0., 0., 0., 0., 0.,\n",
              "        0., 0., 0., 0., 0., 0., 0., 0., 0., 0., 0., 0., 0., 0., 0., 0., 0.,\n",
              "        0., 0., 0., 0., 0., 0., 0., 0., 0., 0., 0.], dtype=float32),\n",
              " (300,))"
            ]
          },
          "metadata": {
            "tags": []
          },
          "execution_count": 50
        }
      ]
    },
    {
      "cell_type": "markdown",
      "metadata": {
        "id": "8VV4PQWHKkX2",
        "colab_type": "text"
      },
      "source": [
        "## **Compiling Model**"
      ]
    },
    {
      "cell_type": "markdown",
      "metadata": {
        "id": "OSKS2kV-Kn55",
        "colab_type": "text"
      },
      "source": [
        "### ***Loss***"
      ]
    },
    {
      "cell_type": "markdown",
      "metadata": {
        "id": "vSjrkVK2J1JS",
        "colab_type": "text"
      },
      "source": [
        "\"sparse_categorical_crossentropy\" loss if sparse labels (i.e., for each instance there is just a target class index, from 0 to 9 in this case) and exclusive classes.\n",
        "\n",
        "\"categorical_crossentropy\" loss if one target probability per class for each instance (such as one-hot vectors, e.g. [0., 0., 0., 1., 0., 0., 0., 0., 0., 0.] to represent class 3).\n",
        "\n",
        "\"binary_crossentropy\" loss if binary classi‐ fication (with one or more binary labels) (with \"sigmoid\" (i.e., logistic) activation function in the output layer)\n",
        "\n",
        "To convert sparse labels (i.e., class indices) to one-hot vector labels, use keras.utils.to_categorical().\n",
        "To go the other way round, you can just use the np.arg max() function with axis=1."
      ]
    },
    {
      "cell_type": "markdown",
      "metadata": {
        "id": "QXaXpNJ9KsLH",
        "colab_type": "text"
      },
      "source": [
        "### ***Optimiser***"
      ]
    },
    {
      "cell_type": "markdown",
      "metadata": {
        "id": "FJSQ257zKCIB",
        "colab_type": "text"
      },
      "source": [
        "Training model/ Keras performing the backpropagation algorithm reverse-mode autodiff + Stochastic Gradient Descent"
      ]
    },
    {
      "cell_type": "code",
      "metadata": {
        "id": "oSE9gxBMHK1c",
        "colab_type": "code",
        "colab": {}
      },
      "source": [
        "model.compile(loss=\"sparse_categorical_crossentropy\",  # == loss=keras.losses.sparse_categorical_crossentropy\n",
        "              optimizer=\"sgd\",  # == optimizer=keras.optimiz ers.SGD()\n",
        "              metrics=[\"accuracy\"])  # == metrics=[keras.metrics.sparse_categorical_accuracy] (when using this loss)\n"
      ],
      "execution_count": 0,
      "outputs": []
    }
  ]
}