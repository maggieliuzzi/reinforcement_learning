{
  "nbformat": 4,
  "nbformat_minor": 0,
  "metadata": {
    "colab": {
      "name": "EvolutionStrategies.ipynb",
      "provenance": [],
      "authorship_tag": "ABX9TyMD2JKSY/b/NehMixQQcWa8",
      "include_colab_link": true
    },
    "kernelspec": {
      "name": "python3",
      "display_name": "Python 3"
    }
  },
  "cells": [
    {
      "cell_type": "markdown",
      "metadata": {
        "id": "view-in-github",
        "colab_type": "text"
      },
      "source": [
        "<a href=\"https://colab.research.google.com/github/maggieliuzzi/reinforcement_learning/blob/master/evolution_strategies/function_optimisation.ipynb\" target=\"_parent\"><img src=\"https://colab.research.google.com/assets/colab-badge.svg\" alt=\"Open In Colab\"/></a>"
      ]
    },
    {
      "cell_type": "code",
      "metadata": {
        "id": "i5ZNbX6JCLSH",
        "colab_type": "code",
        "colab": {}
      },
      "source": [
        "import numpy as np\n",
        "import matplotlib.pyplot as plt"
      ],
      "execution_count": 0,
      "outputs": []
    },
    {
      "cell_type": "code",
      "metadata": {
        "id": "D0M_W4aOCx6h",
        "colab_type": "code",
        "colab": {}
      },
      "source": [
        "def evolution_strategy(\n",
        "    f,\n",
        "    population_size,\n",
        "    sigma,\n",
        "    lr,\n",
        "    initial_params,\n",
        "    num_iters):\n",
        "\n",
        "  # assume initial params is a 1-D array\n",
        "  num_params = len(initial_params)\n",
        "  reward_per_iteration = np.zeros(num_iters)\n",
        "\n",
        "  params = initial_params\n",
        "  for t in range(num_iters):\n",
        "    N = np.random.randn(population_size, num_params)\n",
        "    R = np.zeros(population_size) # stores the reward\n",
        "\n",
        "    # loop through each \"offspring\"\n",
        "    for j in range(population_size):\n",
        "      params_try = params + sigma*N[j]\n",
        "      R[j] = f(params_try)\n",
        "\n",
        "    m = R.mean()\n",
        "    A = (R - m) / R.std()\n",
        "    reward_per_iteration[t] = m\n",
        "    params = params + lr/(population_size*sigma) * np.dot(N.T, A)\n",
        "\n",
        "  return params, reward_per_iteration"
      ],
      "execution_count": 0,
      "outputs": []
    },
    {
      "cell_type": "code",
      "metadata": {
        "id": "yqZP3LVHCx9c",
        "colab_type": "code",
        "colab": {}
      },
      "source": [
        "def reward_function(params):\n",
        "  x0 = params[0]\n",
        "  x1 = params[1]\n",
        "  x2 = params[2]\n",
        "  return -(x0**2 + 0.1*(x1 - 1)**2 + 0.5*(x2 + 2)**2)"
      ],
      "execution_count": 0,
      "outputs": []
    },
    {
      "cell_type": "code",
      "metadata": {
        "id": "nClT_E5HCvyt",
        "colab_type": "code",
        "colab": {}
      },
      "source": [
        "best_params, rewards = evolution_strategy(\n",
        "  f=reward_function,\n",
        "  population_size=50,\n",
        "  sigma=0.1,\n",
        "  lr=1e-3,\n",
        "  initial_params=np.random.randn(3),\n",
        "  num_iters=500,\n",
        ")"
      ],
      "execution_count": 0,
      "outputs": []
    },
    {
      "cell_type": "code",
      "metadata": {
        "id": "nLJHkJ8wC4nn",
        "colab_type": "code",
        "colab": {
          "base_uri": "https://localhost:8080/",
          "height": 265
        },
        "outputId": "671d057e-c5b8-41fc-e1ad-3f758c796beb"
      },
      "source": [
        "# plot the rewards per iteration\n",
        "plt.plot(rewards)\n",
        "plt.show()"
      ],
      "execution_count": 5,
      "outputs": [
        {
          "output_type": "display_data",
          "data": {
            "image/png": "[encoded data removed]",
            "text/plain": [
              "<Figure size 432x288 with 1 Axes>"
            ]
          },
          "metadata": {
            "tags": [],
            "needs_background": "light"
          }
        }
      ]
    },
    {
      "cell_type": "code",
      "metadata": {
        "id": "b7E5ZWhcC6ZQ",
        "colab_type": "code",
        "colab": {
          "base_uri": "https://localhost:8080/",
          "height": 34
        },
        "outputId": "c92e22df-2681-416e-dc2f-9934c81a8e5a"
      },
      "source": [
        "print(\"Final params:\", best_params)  # Expected: 0, 1, -2"
      ],
      "execution_count": 7,
      "outputs": [
        {
          "output_type": "stream",
          "text": [
            "Final params: [ 0.01077611  0.87421263 -2.00662457]\n"
          ],
          "name": "stdout"
        }
      ]
    }
  ]
}