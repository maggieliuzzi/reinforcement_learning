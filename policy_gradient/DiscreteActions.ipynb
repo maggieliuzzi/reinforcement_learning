{
  "nbformat": 4,
  "nbformat_minor": 0,
  "metadata": {
    "colab": {
      "name": "PolicyGradient-DiscreteActions.ipynb",
      "provenance": [],
      "authorship_tag": "ABX9TyOjVR9dnOxoAYMek3Sr4+hU",
      "include_colab_link": true
    },
    "kernelspec": {
      "name": "python3",
      "display_name": "Python 3"
    }
  },
  "cells": [
    {
      "cell_type": "markdown",
      "metadata": {
        "id": "view-in-github",
        "colab_type": "text"
      },
      "source": [
        "<a href=\"https://colab.research.google.com/github/maggieliuzzi/reinforcement_learning/blob/master/policy_gradient/DiscreteActions.ipynb\" target=\"_parent\"><img src=\"https://colab.research.google.com/assets/colab-badge.svg\" alt=\"Open In Colab\"/></a>"
      ]
    },
    {
      "cell_type": "markdown",
      "metadata": {
        "id": "KF-ZfH07p7o9",
        "colab_type": "text"
      },
      "source": [
        "Approximating/ parameterising policy.\n",
        "\n",
        "Output of policy model: probability distribution over the action space\n",
        "\n",
        "- OpenAI Gym's Cartpole environment\n",
        "- TensorFlow 1"
      ]
    },
    {
      "cell_type": "code",
      "metadata": {
        "id": "5jOtEt2op1Pe",
        "colab_type": "code",
        "colab": {
          "base_uri": "https://localhost:8080/",
          "height": 34
        },
        "outputId": "3acb0aa2-61d2-4029-aa67-74599b3c38b7"
      },
      "source": [
        "from __future__ import print_function, division\n",
        "from builtins import range\n",
        "import gym\n",
        "import os\n",
        "import sys\n",
        "import numpy as np\n",
        "%tensorflow_version 1.x\n",
        "import tensorflow as tf  # TensorFlow 1\n",
        "print(tf.__version__)\n",
        "import matplotlib.pyplot as plt\n",
        "from gym import wrappers\n",
        "from datetime import datetime"
      ],
      "execution_count": 3,
      "outputs": [
        {
          "output_type": "stream",
          "text": [
            "1.15.2\n"
          ],
          "name": "stdout"
        }
      ]
    },
    {
      "cell_type": "code",
      "metadata": {
        "id": "UtXkuKmyqRMN",
        "colab_type": "code",
        "colab": {}
      },
      "source": [
        "def plot_running_avg(totalrewards):\n",
        "  N = len(totalrewards)\n",
        "  running_avg = np.empty(N)\n",
        "  for t in range(N):\n",
        "    running_avg[t] = totalrewards[max(0, t-100):(t+1)].mean()\n",
        "  plt.plot(running_avg)\n",
        "  plt.title(\"Running Average\")\n",
        "  plt.show()"
      ],
      "execution_count": 0,
      "outputs": []
    },
    {
      "cell_type": "code",
      "metadata": {
        "id": "xXpnzOxOqtsG",
        "colab_type": "code",
        "colab": {}
      },
      "source": [
        "class HiddenLayer:\n",
        "  def __init__(self, M1, M2, f=tf.nn.tanh, use_bias=True):\n",
        "    self.W = tf.Variable(tf.random_normal(shape=(M1, M2)))  # tf.random_normal( for tf < 2\n",
        "    self.use_bias = use_bias\n",
        "    if use_bias:\n",
        "      self.b = tf.Variable(np.zeros(M2).astype(np.float32))\n",
        "    self.f = f\n",
        "\n",
        "  def forward(self, X):\n",
        "    if self.use_bias:\n",
        "      a = tf.matmul(X, self.W) + self.b\n",
        "    else:\n",
        "      a = tf.matmul(X, self.W)\n",
        "    return self.f(a)"
      ],
      "execution_count": 0,
      "outputs": []
    },
    {
      "cell_type": "code",
      "metadata": {
        "id": "blhGoGckqvo0",
        "colab_type": "code",
        "colab": {}
      },
      "source": [
        "# approximates pi(a | s)\n",
        "class PolicyModel:\n",
        "  def __init__(self, D, K, hidden_layer_sizes):\n",
        "    # create the graph\n",
        "    # K = number of actions\n",
        "    self.layers = []\n",
        "    M1 = D\n",
        "    for M2 in hidden_layer_sizes:\n",
        "      layer = HiddenLayer(M1, M2)\n",
        "      self.layers.append(layer)\n",
        "      M1 = M2\n",
        "\n",
        "    # final layer\n",
        "    # layer = HiddenLayer(M1, K, lambda x: x, use_bias=False)\n",
        "    layer = HiddenLayer(M1, K, tf.nn.softmax, use_bias=False)\n",
        "    self.layers.append(layer)\n",
        "\n",
        "    # inputs and targets\n",
        "    self.X = tf.placeholder(tf.float32, shape=(None, D), name='X')\n",
        "    self.actions = tf.placeholder(tf.int32, shape=(None,), name='actions')\n",
        "    self.advantages = tf.placeholder(tf.float32, shape=(None,), name='advantages')\n",
        "\n",
        "    # calculate output and cost\n",
        "    Z = self.X\n",
        "    for layer in self.layers:\n",
        "      Z = layer.forward(Z)\n",
        "    p_a_given_s = Z\n",
        "    # action_scores = Z\n",
        "    # p_a_given_s = tf.nn.softmax(action_scores)\n",
        "    # self.action_scores = action_scores\n",
        "    self.predict_op = p_a_given_s\n",
        "\n",
        "    # self.one_hot_actions = tf.one_hot(self.actions, K)\n",
        "\n",
        "    selected_probs = tf.log(\n",
        "      tf.reduce_sum(\n",
        "        p_a_given_s * tf.one_hot(self.actions, K),\n",
        "        reduction_indices=[1]\n",
        "      )\n",
        "    )\n",
        "\n",
        "    # self.selected_probs = selected_probs\n",
        "    cost = -tf.reduce_sum(self.advantages * selected_probs)\n",
        "    # self.cost = cost\n",
        "    # self.train_op = tf.train.AdamOptimizer(1e-1).minimize(cost)\n",
        "    self.train_op = tf.train.AdagradOptimizer(1e-1).minimize(cost)\n",
        "    # self.train_op = tf.train.MomentumOptimizer(1e-4, momentum=0.9).minimize(cost)\n",
        "    # self.train_op = tf.train.GradientDescentOptimizer(1e-4).minimize(cost)\n",
        "\n",
        "  def set_session(self, session):\n",
        "    self.session = session\n",
        "\n",
        "  def partial_fit(self, X, actions, advantages):\n",
        "    X = np.atleast_2d(X)\n",
        "    actions = np.atleast_1d(actions)\n",
        "    advantages = np.atleast_1d(advantages)\n",
        "    self.session.run(\n",
        "      self.train_op,\n",
        "      feed_dict={\n",
        "        self.X: X,\n",
        "        self.actions: actions,\n",
        "        self.advantages: advantages,\n",
        "      }\n",
        "    )\n",
        "\n",
        "  def predict(self, X):\n",
        "    X = np.atleast_2d(X)\n",
        "    return self.session.run(self.predict_op, feed_dict={self.X: X})\n",
        "\n",
        "  def sample_action(self, X):\n",
        "    p = self.predict(X)[0]\n",
        "    return np.random.choice(len(p), p=p)"
      ],
      "execution_count": 0,
      "outputs": []
    },
    {
      "cell_type": "code",
      "metadata": {
        "id": "EjgyZNTgq3n0",
        "colab_type": "code",
        "colab": {}
      },
      "source": [
        "# approximates V(s)\n",
        "class ValueModel:\n",
        "  def __init__(self, D, hidden_layer_sizes):\n",
        "    # create the graph\n",
        "    self.layers = []\n",
        "    M1 = D\n",
        "    for M2 in hidden_layer_sizes:\n",
        "      layer = HiddenLayer(M1, M2)\n",
        "      self.layers.append(layer)\n",
        "      M1 = M2\n",
        "\n",
        "    # final layer\n",
        "    layer = HiddenLayer(M1, 1, lambda x: x)\n",
        "    self.layers.append(layer)\n",
        "\n",
        "    # inputs and targets\n",
        "    self.X = tf.placeholder(tf.float32, shape=(None, D), name='X')\n",
        "    self.Y = tf.placeholder(tf.float32, shape=(None,), name='Y')\n",
        "\n",
        "    # calculate output and cost\n",
        "    Z = self.X\n",
        "    for layer in self.layers:\n",
        "      Z = layer.forward(Z)\n",
        "    Y_hat = tf.reshape(Z, [-1]) # the output\n",
        "    self.predict_op = Y_hat\n",
        "\n",
        "    cost = tf.reduce_sum(tf.square(self.Y - Y_hat))\n",
        "    # self.train_op = tf.train.AdamOptimizer(1e-2).minimize(cost)\n",
        "    # self.train_op = tf.train.MomentumOptimizer(1e-2, momentum=0.9).minimize(cost)\n",
        "    self.train_op = tf.train.GradientDescentOptimizer(1e-4).minimize(cost)\n",
        "\n",
        "  def set_session(self, session):\n",
        "    self.session = session\n",
        "\n",
        "  def partial_fit(self, X, Y):\n",
        "    X = np.atleast_2d(X)\n",
        "    Y = np.atleast_1d(Y)\n",
        "    self.session.run(self.train_op, feed_dict={self.X: X, self.Y: Y})\n",
        "\n",
        "  def predict(self, X):\n",
        "    X = np.atleast_2d(X)\n",
        "    return self.session.run(self.predict_op, feed_dict={self.X: X})"
      ],
      "execution_count": 0,
      "outputs": []
    },
    {
      "cell_type": "code",
      "metadata": {
        "id": "5VZuPDfWq5sY",
        "colab_type": "code",
        "colab": {}
      },
      "source": [
        "def play_one_td(env, pmodel, vmodel, gamma):\n",
        "  observation = env.reset()\n",
        "  done = False\n",
        "  totalreward = 0\n",
        "  iters = 0\n",
        "\n",
        "  while not done and iters < 2000:\n",
        "    # if we reach 2000, just quit, don't want this going forever\n",
        "    # the 200 limit seems a bit early\n",
        "    action = pmodel.sample_action(observation)\n",
        "    prev_observation = observation\n",
        "    observation, reward, done, info = env.step(action)\n",
        "\n",
        "    # if done:\n",
        "    #   reward = -200\n",
        "\n",
        "    # update the models\n",
        "    V_next = vmodel.predict(observation)[0]\n",
        "    G = reward + gamma*V_next\n",
        "    advantage = G - vmodel.predict(prev_observation)\n",
        "    pmodel.partial_fit(prev_observation, action, advantage)\n",
        "    vmodel.partial_fit(prev_observation, G)\n",
        "\n",
        "    if reward == 1: # if we changed the reward to -200\n",
        "      totalreward += reward\n",
        "    iters += 1\n",
        "\n",
        "  return totalreward"
      ],
      "execution_count": 0,
      "outputs": []
    },
    {
      "cell_type": "code",
      "metadata": {
        "id": "8qcw8gw_q6GC",
        "colab_type": "code",
        "colab": {}
      },
      "source": [
        "def play_one_mc(env, pmodel, vmodel, gamma):\n",
        "  observation = env.reset()\n",
        "  done = False\n",
        "  totalreward = 0\n",
        "  iters = 0\n",
        "\n",
        "  states = []\n",
        "  actions = []\n",
        "  rewards = []\n",
        "\n",
        "  reward = 0\n",
        "  while not done and iters < 2000:\n",
        "    # if we reach 2000, just quit, don't want this going forever\n",
        "    # the 200 limit seems a bit early\n",
        "    action = pmodel.sample_action(observation)\n",
        "\n",
        "    states.append(observation)\n",
        "    actions.append(action)\n",
        "    rewards.append(reward)\n",
        "\n",
        "    prev_observation = observation\n",
        "    observation, reward, done, info = env.step(action)\n",
        "\n",
        "    if done:\n",
        "      reward = -200\n",
        "\n",
        "    if reward == 1: # if we changed the reward to -200\n",
        "      totalreward += reward\n",
        "    iters += 1\n",
        "\n",
        "  # save the final (s,a,r) tuple\n",
        "  action = pmodel.sample_action(observation)\n",
        "  states.append(observation)\n",
        "  actions.append(action)\n",
        "  rewards.append(reward)\n",
        "\n",
        "  returns = []\n",
        "  advantages = []\n",
        "  G = 0\n",
        "  for s, r in zip(reversed(states), reversed(rewards)):\n",
        "    returns.append(G)\n",
        "    advantages.append(G - vmodel.predict(s)[0])\n",
        "    G = r + gamma*G\n",
        "  returns.reverse()\n",
        "  advantages.reverse()\n",
        "\n",
        "  # update the models\n",
        "  pmodel.partial_fit(states, actions, advantages)\n",
        "  vmodel.partial_fit(states, returns)\n",
        "\n",
        "  return totalreward"
      ],
      "execution_count": 0,
      "outputs": []
    },
    {
      "cell_type": "code",
      "metadata": {
        "id": "JM7jJa_QrnxW",
        "colab_type": "code",
        "colab": {}
      },
      "source": [
        "D = env.observation_space.shape[0]\n",
        "K = env.action_space.n\n",
        "pmodel = PolicyModel(D, K, [])\n",
        "vmodel = ValueModel(D, [10])"
      ],
      "execution_count": 0,
      "outputs": []
    },
    {
      "cell_type": "code",
      "metadata": {
        "id": "IF8U_DUnrDww",
        "colab_type": "code",
        "colab": {
          "base_uri": "https://localhost:8080/",
          "height": 71
        },
        "outputId": "234b3a67-eaa8-43e7-b964-e570a1a41cdc"
      },
      "source": [
        "env = gym.make('CartPole-v0')\n",
        "# env.render()\n",
        "\n",
        "init = tf.global_variables_initializer()\n",
        "session = tf.InteractiveSession()\n",
        "session.run(init)\n",
        "pmodel.set_session(session)\n",
        "vmodel.set_session(session)"
      ],
      "execution_count": 22,
      "outputs": [
        {
          "output_type": "stream",
          "text": [
            "/tensorflow-1.15.2/python3.6/tensorflow_core/python/client/session.py:1750: UserWarning: An interactive session is already active. This can cause out-of-memory errors in some cases. You must explicitly call `InteractiveSession.close()` to release resources held by the other session(s).\n",
            "  warnings.warn('An interactive session is already active. This can '\n"
          ],
          "name": "stderr"
        }
      ]
    },
    {
      "cell_type": "code",
      "metadata": {
        "id": "OHg42saJrOoZ",
        "colab_type": "code",
        "colab": {}
      },
      "source": [
        "gamma = 0.99\n",
        "N = 1000\n",
        "totalrewards = np.empty(N)\n",
        "costs = np.empty(N)"
      ],
      "execution_count": 0,
      "outputs": []
    },
    {
      "cell_type": "code",
      "metadata": {
        "id": "SEvT_rA4rZ80",
        "colab_type": "code",
        "colab": {
          "base_uri": "https://localhost:8080/",
          "height": 187
        },
        "outputId": "ad60ad36-9dc7-4da0-c4ae-30c7d9f1bbfd"
      },
      "source": [
        "for n in range(N):\n",
        "  totalreward = play_one_mc(env, pmodel, vmodel, gamma)\n",
        "  totalrewards[n] = totalreward\n",
        "  if n % 100 == 0:\n",
        "    print(\"episode:\", n, \"total reward:\", totalreward, \"avg reward (last 100):\", totalrewards[max(0, n-100):(n+1)].mean())"
      ],
      "execution_count": 15,
      "outputs": [
        {
          "output_type": "stream",
          "text": [
            "episode: 0 total reward: 21.0 avg reward (last 100): 21.0\n",
            "episode: 100 total reward: 33.0 avg reward (last 100): 68.82178217821782\n",
            "episode: 200 total reward: 111.0 avg reward (last 100): 160.04950495049505\n",
            "episode: 300 total reward: 199.0 avg reward (last 100): 182.9009900990099\n",
            "episode: 400 total reward: 163.0 avg reward (last 100): 184.84158415841586\n",
            "episode: 500 total reward: 199.0 avg reward (last 100): 187.23762376237624\n",
            "episode: 600 total reward: 199.0 avg reward (last 100): 190.11881188118812\n",
            "episode: 700 total reward: 199.0 avg reward (last 100): 193.77227722772278\n",
            "episode: 800 total reward: 199.0 avg reward (last 100): 192.94059405940595\n",
            "episode: 900 total reward: 199.0 avg reward (last 100): 190.92079207920793\n"
          ],
          "name": "stdout"
        }
      ]
    },
    {
      "cell_type": "code",
      "metadata": {
        "id": "O3d9EJyOrddC",
        "colab_type": "code",
        "colab": {
          "base_uri": "https://localhost:8080/",
          "height": 51
        },
        "outputId": "f51e5ccf-608d-4da5-d079-c60e08f65fd7"
      },
      "source": [
        "print(\"avg reward for last 100 episodes:\", totalrewards[-100:].mean())\n",
        "print(\"total steps:\", totalrewards.sum())"
      ],
      "execution_count": 16,
      "outputs": [
        {
          "output_type": "stream",
          "text": [
            "avg reward for last 100 episodes: 195.21\n",
            "total steps: 174732.0\n"
          ],
          "name": "stdout"
        }
      ]
    },
    {
      "cell_type": "code",
      "metadata": {
        "id": "jeiUCUhHqBzO",
        "colab_type": "code",
        "colab": {
          "base_uri": "https://localhost:8080/",
          "height": 281
        },
        "outputId": "73437055-4ffd-48b5-d648-5315f845813c"
      },
      "source": [
        "plt.plot(totalrewards)\n",
        "plt.title(\"Rewards\")\n",
        "plt.show()"
      ],
      "execution_count": 17,
      "outputs": [
        {
          "output_type": "display_data",
          "data": {
            "image/png": "[encoded data removed]",
            "text/plain": [
              "<Figure size 432x288 with 1 Axes>"
            ]
          },
          "metadata": {
            "tags": [],
            "needs_background": "light"
          }
        }
      ]
    },
    {
      "cell_type": "code",
      "metadata": {
        "id": "2_0g9P3brfIM",
        "colab_type": "code",
        "colab": {
          "base_uri": "https://localhost:8080/",
          "height": 281
        },
        "outputId": "8e31d7d3-29f5-4874-82f2-51492e5f0a29"
      },
      "source": [
        "plot_running_avg(totalrewards)"
      ],
      "execution_count": 18,
      "outputs": [
        {
          "output_type": "display_data",
          "data": {
            "image/png": "[encoded data removed]",
            "text/plain": [
              "<Figure size 432x288 with 1 Axes>"
            ]
          },
          "metadata": {
            "tags": [],
            "needs_background": "light"
          }
        }
      ]
    }
  ]
}