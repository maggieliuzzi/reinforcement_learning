{
  "nbformat": 4,
  "nbformat_minor": 0,
  "metadata": {
    "colab": {
      "name": "UCB1.ipynb",
      "provenance": [],
      "authorship_tag": "ABX9TyNCGO+05loHffGHIdz8wsKQ",
      "include_colab_link": true
    },
    "kernelspec": {
      "name": "python3",
      "display_name": "Python 3"
    }
  },
  "cells": [
    {
      "cell_type": "markdown",
      "metadata": {
        "id": "view-in-github",
        "colab_type": "text"
      },
      "source": [
        "<a href=\"https://colab.research.google.com/github/maggieliuzzi/reinforcement_learning/blob/master/explore_exploit_dilemma/UCB1.ipynb\" target=\"_parent\"><img src=\"https://colab.research.google.com/assets/colab-badge.svg\" alt=\"Open In Colab\"/></a>"
      ]
    },
    {
      "cell_type": "markdown",
      "metadata": {
        "id": "RLG8IVMtcmOW",
        "colab_type": "text"
      },
      "source": [
        "**Upper Confidence Bound**"
      ]
    },
    {
      "cell_type": "code",
      "metadata": {
        "id": "hIw4cxYlnMJ5",
        "colab_type": "code",
        "colab": {}
      },
      "source": [
        "from __future__ import print_function, division  # sudo pip install -U future\n",
        "from builtins import range\n",
        "import numpy as np\n",
        "import matplotlib.pyplot as plt"
      ],
      "execution_count": 0,
      "outputs": []
    },
    {
      "cell_type": "code",
      "metadata": {
        "id": "e2WrGWDInQ5B",
        "colab_type": "code",
        "colab": {}
      },
      "source": [
        "NUM_TRIALS = 100000\n",
        "BANDIT_PROBABILITIES = [0.2, 0.5, 0.75]"
      ],
      "execution_count": 0,
      "outputs": []
    },
    {
      "cell_type": "code",
      "metadata": {
        "id": "weZod8WxnRBv",
        "colab_type": "code",
        "colab": {}
      },
      "source": [
        "class Bandit:\n",
        "  def __init__(self, p):\n",
        "    # p: the win rate\n",
        "    self.p = p\n",
        "    self.p_estimate = 0.\n",
        "    self.N = 0. # num samples collected so far\n",
        "\n",
        "  def pull(self):\n",
        "    # draw a 1 with probability p\n",
        "    return np.random.random() < self.p\n",
        "\n",
        "  def update(self, x):\n",
        "    self.N += 1.\n",
        "    self.p_estimate = ((self.N - 1)*self.p_estimate + x) / self.N"
      ],
      "execution_count": 0,
      "outputs": []
    },
    {
      "cell_type": "code",
      "metadata": {
        "id": "PKoH7jxUnUeD",
        "colab_type": "code",
        "colab": {}
      },
      "source": [
        "def ucb(mean, n, nj):\n",
        "  return mean + np.sqrt(2 * np.log(n) / nj)  # 2 is a hyperparameter, can explore for various amounts of exploration"
      ],
      "execution_count": 0,
      "outputs": []
    },
    {
      "cell_type": "code",
      "metadata": {
        "id": "281Brjqmnr7D",
        "colab_type": "code",
        "colab": {}
      },
      "source": [
        "bandits = [Bandit(p) for p in BANDIT_PROBABILITIES]\n",
        "rewards = np.empty(NUM_TRIALS)\n",
        "total_plays = 0"
      ],
      "execution_count": 0,
      "outputs": []
    },
    {
      "cell_type": "code",
      "metadata": {
        "id": "sW847aUDci_z",
        "colab_type": "code",
        "colab": {}
      },
      "source": [
        "# initialization: play each bandit once\n",
        "for j in range(len(bandits)):\n",
        "  x = bandits[j].pull()\n",
        "  total_plays += 1\n",
        "  bandits[j].update(x)\n",
        "\n",
        "for i in range(NUM_TRIALS):\n",
        "  j = np.argmax([ucb(b.p_estimate, total_plays, b.N) for b in bandits])\n",
        "  x = bandits[j].pull()\n",
        "  total_plays += 1\n",
        "  bandits[j].update(x)\n",
        "\n",
        "  # for the plot\n",
        "  rewards[i] = x"
      ],
      "execution_count": 0,
      "outputs": []
    },
    {
      "cell_type": "code",
      "metadata": {
        "id": "wTUk3gW9neL9",
        "colab_type": "code",
        "outputId": "b5e007ec-a4ef-4843-e52b-901a344faea4",
        "colab": {
          "base_uri": "https://localhost:8080/",
          "height": 119
        }
      },
      "source": [
        "for b in bandits:\n",
        "  print(b.p_estimate)  # pretty accurate, probably because the suboptimal bandits were played more than needed\n",
        "print(\"total reward earned:\", rewards.sum())\n",
        "print(\"overall win rate:\", rewards.sum() / NUM_TRIALS)\n",
        "print(\"num times selected each bandit:\", [b.N for b in bandits])"
      ],
      "execution_count": 0,
      "outputs": [
        {
          "output_type": "stream",
          "text": [
            "0.21052631578947367\n",
            "0.5135869565217395\n",
            "0.7497765144286329\n",
            "total reward earned: 74852.0\n",
            "overall win rate: 0.74852\n",
            "num times selected each bandit: [76.0, 368.0, 99559.0]\n"
          ],
          "name": "stdout"
        }
      ]
    },
    {
      "cell_type": "code",
      "metadata": {
        "id": "qiTtgprhniYT",
        "colab_type": "code",
        "outputId": "55ca1d95-526f-4d48-9b08-b22fcc6c1bd9",
        "colab": {
          "base_uri": "https://localhost:8080/",
          "height": 269
        }
      },
      "source": [
        "cumulative_average = np.cumsum(rewards) / (np.arange(NUM_TRIALS) + 1)\n",
        "\n",
        "# plot moving average ctr\n",
        "plt.plot(cumulative_average)\n",
        "plt.plot(np.ones(NUM_TRIALS)*np.max(BANDIT_PROBABILITIES))\n",
        "plt.xscale('log')\n",
        "plt.show()"
      ],
      "execution_count": 0,
      "outputs": [
        {
          "output_type": "display_data",
          "data": {
            "image/png": "[encoded data removed]",
            "text/plain": [
              "<Figure size 432x288 with 1 Axes>"
            ]
          },
          "metadata": {
            "tags": [],
            "needs_background": "light"
          }
        }
      ]
    },
    {
      "cell_type": "code",
      "metadata": {
        "id": "ga78xdIBnqTT",
        "colab_type": "code",
        "outputId": "6a23812e-0765-4114-e8f2-ef85852e89f7",
        "colab": {
          "base_uri": "https://localhost:8080/",
          "height": 265
        }
      },
      "source": [
        "# plot moving average ctr linear\n",
        "plt.plot(cumulative_average)\n",
        "plt.plot(np.ones(NUM_TRIALS)*np.max(BANDIT_PROBABILITIES))\n",
        "plt.show()"
      ],
      "execution_count": 0,
      "outputs": [
        {
          "output_type": "display_data",
          "data": {
            "image/png": "[encoded data removed]",
            "text/plain": [
              "<Figure size 432x288 with 1 Axes>"
            ]
          },
          "metadata": {
            "tags": [],
            "needs_background": "light"
          }
        }
      ]
    }
  ]
}