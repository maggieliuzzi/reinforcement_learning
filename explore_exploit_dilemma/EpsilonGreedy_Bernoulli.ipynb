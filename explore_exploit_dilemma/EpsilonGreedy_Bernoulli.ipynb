{
  "nbformat": 4,
  "nbformat_minor": 0,
  "metadata": {
    "colab": {
      "name": "EpsilonGreedy-Bernoulli.ipynb",
      "provenance": [],
      "authorship_tag": "ABX9TyNX2yNGOb58G3g7yjOnsR1L",
      "include_colab_link": true
    },
    "kernelspec": {
      "name": "python3",
      "display_name": "Python 3"
    }
  },
  "cells": [
    {
      "cell_type": "markdown",
      "metadata": {
        "id": "view-in-github",
        "colab_type": "text"
      },
      "source": [
        "<a href=\"https://colab.research.google.com/github/maggieliuzzi/reinforcement_learning/blob/master/explore_exploit_dilemma/EpsilonGreedy_Bernoulli.ipynb\" target=\"_parent\"><img src=\"https://colab.research.google.com/assets/colab-badge.svg\" alt=\"Open In Colab\"/></a>"
      ]
    },
    {
      "cell_type": "code",
      "metadata": {
        "id": "2IfK2WGL2DwP",
        "colab_type": "code",
        "colab": {}
      },
      "source": [
        "from __future__ import print_function, division  # sudo pip install -U future\n",
        "from builtins import range\n",
        "import matplotlib.pyplot as plt\n",
        "import numpy as np"
      ],
      "execution_count": 0,
      "outputs": []
    },
    {
      "cell_type": "code",
      "metadata": {
        "id": "uaBmZchT2E3r",
        "colab_type": "code",
        "colab": {}
      },
      "source": [
        "NUM_TRIALS = 10000\n",
        "EPS = 0.1\n",
        "BANDIT_PROBABILITIES = [0.2, 0.5, 0.75]"
      ],
      "execution_count": 0,
      "outputs": []
    },
    {
      "cell_type": "code",
      "metadata": {
        "id": "kr0y09qb2Jvt",
        "colab_type": "code",
        "colab": {}
      },
      "source": [
        "class Bandit:\n",
        "  def __init__(self, p):\n",
        "    # p: the win rate\n",
        "    self.p = p\n",
        "    self.p_estimate = 0.\n",
        "    self.N = 0. # num samples collected so far\n",
        "\n",
        "  def pull(self):\n",
        "    # draw a 1 with probability p\n",
        "    return np.random.random() < self.p\n",
        "\n",
        "  def update(self, x):\n",
        "    self.N += 1.\n",
        "    self.p_estimate = ((self.N - 1)*self.p_estimate + x) / self.N"
      ],
      "execution_count": 0,
      "outputs": []
    },
    {
      "cell_type": "code",
      "metadata": {
        "id": "3sj8bFCL2Jz4",
        "colab_type": "code",
        "colab": {
          "base_uri": "https://localhost:8080/",
          "height": 34
        },
        "outputId": "33822638-c1a6-4387-a655-1d420e10f970"
      },
      "source": [
        "bandits = [Bandit(p) for p in BANDIT_PROBABILITIES]\n",
        "\n",
        "rewards = np.zeros(NUM_TRIALS)\n",
        "num_times_explored = 0\n",
        "num_times_exploited = 0\n",
        "num_optimal = 0\n",
        "optimal_j = np.argmax([b.p for b in bandits])\n",
        "print(\"optimal j:\", optimal_j)"
      ],
      "execution_count": 4,
      "outputs": [
        {
          "output_type": "stream",
          "text": [
            "optimal j: 2\n"
          ],
          "name": "stdout"
        }
      ]
    },
    {
      "cell_type": "code",
      "metadata": {
        "id": "5-syQL_U2UVg",
        "colab_type": "code",
        "colab": {}
      },
      "source": [
        "for i in range(NUM_TRIALS):\n",
        "\n",
        "    # use epsilon-greedy to select the next bandit\n",
        "    if np.random.random() < EPS:\n",
        "      num_times_explored += 1\n",
        "      j = np.random.randint(len(bandits))\n",
        "    else:\n",
        "      num_times_exploited += 1\n",
        "      j = np.argmax([b.p_estimate for b in bandits])\n",
        "\n",
        "    if j == optimal_j:\n",
        "      num_optimal += 1\n",
        "\n",
        "    # pull the arm for the bandit with the largest sample\n",
        "    x = bandits[j].pull()\n",
        "\n",
        "    # update rewards log\n",
        "    rewards[i] = x\n",
        "\n",
        "    # update the distribution for the bandit whose arm we just pulled\n",
        "    bandits[j].update(x)"
      ],
      "execution_count": 0,
      "outputs": []
    },
    {
      "cell_type": "code",
      "metadata": {
        "id": "fXc1gsEr2Wnf",
        "colab_type": "code",
        "colab": {
          "base_uri": "https://localhost:8080/",
          "height": 153
        },
        "outputId": "b663f9cc-81de-4b9d-d642-f290acc3316a"
      },
      "source": [
        "# print mean estimates for each bandit\n",
        "for b in bandits:\n",
        "  print(\"mean estimate:\", b.p_estimate)\n",
        "\n",
        "# print total reward\n",
        "print(\"total reward earned:\", rewards.sum())\n",
        "print(\"overall win rate:\", rewards.sum() / NUM_TRIALS)\n",
        "print(\"num_times_explored:\", num_times_explored)\n",
        "print(\"num_times_exploited:\", num_times_exploited)\n",
        "print(\"num times selected optimal bandit:\", num_optimal)"
      ],
      "execution_count": 6,
      "outputs": [
        {
          "output_type": "stream",
          "text": [
            "mean estimate: 0.20891364902506968\n",
            "mean estimate: 0.474308300395257\n",
            "mean estimate: 0.7512862616310872\n",
            "total reward earned: 7178.0\n",
            "overall win rate: 0.7178\n",
            "num_times_explored: 1014\n",
            "num_times_exploited: 8986\n",
            "num times selected optimal bandit: 9135\n"
          ],
          "name": "stdout"
        }
      ]
    },
    {
      "cell_type": "code",
      "metadata": {
        "id": "58wtXWlF2Y1A",
        "colab_type": "code",
        "colab": {
          "base_uri": "https://localhost:8080/",
          "height": 265
        },
        "outputId": "9eabb86b-06c7-41f9-a706-24f9d9271f16"
      },
      "source": [
        "# plot the results\n",
        "cumulative_rewards = np.cumsum(rewards)\n",
        "win_rates = cumulative_rewards / (np.arange(NUM_TRIALS) + 1)\n",
        "plt.plot(win_rates)\n",
        "plt.plot(np.ones(NUM_TRIALS)*np.max(BANDIT_PROBABILITIES))\n",
        "plt.show()"
      ],
      "execution_count": 7,
      "outputs": [
        {
          "output_type": "display_data",
          "data": {
            "image/png": "[encoded data removed]",
            "text/plain": [
              "<Figure size 432x288 with 1 Axes>"
            ]
          },
          "metadata": {
            "tags": [],
            "needs_background": "light"
          }
        }
      ]
    }
  ]
}